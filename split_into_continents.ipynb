{
 "cells": [
  {
   "metadata": {},
   "cell_type": "markdown",
   "source": "# Check from which continent I have most of the data",
   "id": "63adfd5d63fab0ac"
  },
  {
   "metadata": {},
   "cell_type": "markdown",
   "source": "## Mapping of countries to continents",
   "id": "2989d681114a14eb"
  },
  {
   "metadata": {
    "collapsed": true,
    "ExecuteTime": {
     "end_time": "2024-09-28T20:02:01.025131Z",
     "start_time": "2024-09-28T20:02:01.013112Z"
    }
   },
   "cell_type": "code",
   "outputs": [],
   "execution_count": 14,
   "source": [
    "continent_mapping = {\n",
    "    'Africa': [\n",
    "        'Algeria', 'Angola', 'Botswana', 'Burkina Faso', 'Cabo Verde', 'Cameroon', 'Central and Southern Asia',\n",
    "        'Côte d\\'Ivoire', 'Djibouti', 'Egypt', 'Equatorial Guinea', 'Eritrea', 'Eswatini', 'Ethiopia', 'Gabon',\n",
    "        'Gambia', 'Ghana', 'Guinea', 'Kenya', 'Lesotho', 'Liberia', 'Libya', 'Madagascar', 'Malawi', 'Mali',\n",
    "        'Mauritania', 'Mauritius', 'Morocco', 'Mozambique', 'Namibia', 'Niger', 'Nigeria', 'Rwanda', 'Sao Tome and Principe',\n",
    "        'Senegal', 'Seychelles', 'Sierra Leone', 'Somalia', 'South Africa', 'South Sudan', 'Sudan', 'Togo',\n",
    "        'Tunisia', 'Uganda', 'United Republic of Tanzania', 'Zambia', 'Zimbabwe', 'Congo',\n",
    "        'Democratic Republic of the Congo', 'Mayotte', 'Réunion'\n",
    "    ],\n",
    "    'Asia': [\n",
    "        'Afghanistan', 'Armenia', 'Azerbaijan', 'Bahrain', 'Bangladesh', 'Bhutan', 'Brunei Darussalam', 'Cambodia',\n",
    "        'China', 'Cyprus', 'Democratic People\\'s Republic of Korea', 'Georgia', 'India', 'Indonesia', 'Iran (Islamic Republic of)',\n",
    "        'Iraq', 'Israel', 'Japan', 'Jordan', 'Kazakhstan', 'Kuwait', 'Kyrgyzstan', 'Lao People\\'s Democratic Republic',\n",
    "        'Lebanon', 'Malaysia', 'Maldives', 'Mongolia', 'Myanmar', 'Nepal', 'Oman', 'Pakistan', 'Philippines',\n",
    "        'Qatar', 'Republic of Korea', 'Saudi Arabia', 'Singapore', 'Sri Lanka', 'Syrian Arab Republic', 'Tajikistan',\n",
    "        'Thailand', 'Timor-Leste', 'Turkmenistan', 'United Arab Emirates', 'Uzbekistan', 'Viet Nam', 'Yemen'\n",
    "    ],\n",
    "    'Europe': [\n",
    "        'Albania', 'Andorra', 'Austria', 'Belarus', 'Belgium', 'Bosnia and Herzegovina', 'Bulgaria', 'Croatia', 'Czechia',\n",
    "        'Denmark', 'Estonia', 'Finland', 'France', 'Germany', 'Greece', 'Hungary', 'Iceland', 'Ireland', 'Italy',\n",
    "        'Latvia', 'Lithuania', 'Luxembourg', 'Malta', 'Monaco', 'Montenegro', 'Netherlands (Kingdom of the)',\n",
    "        'North Macedonia', 'Norway', 'Poland', 'Portugal', 'Republic of Moldova', 'Romania', 'Russian Federation',\n",
    "        'San Marino', 'Serbia', 'Slovakia', 'Slovenia', 'Spain', 'Sweden', 'Switzerland', 'Türkiye', 'Ukraine',\n",
    "        'United Kingdom of Great Britain and Northern Ireland', 'Faroe Islands', 'Greenland'\n",
    "    ],\n",
    "    'North America': [\n",
    "        'Antigua and Barbuda', 'Bahamas', 'Barbados', 'Belize', 'Canada', 'Costa Rica', 'Cuba', 'Dominican Republic',\n",
    "        'El Salvador', 'Grenada', 'Guatemala', 'Haiti', 'Honduras', 'Jamaica', 'Mexico', 'Nicaragua', 'Panama',\n",
    "        'Saint Kitts and Nevis', 'Saint Lucia', 'Saint Vincent and the Grenadines', 'Trinidad and Tobago', 'United States of America',\n",
    "        'Aruba', 'Cayman Islands', 'Curaçao', 'Sint Maarten (Dutch part)', 'Puerto Rico', 'Guadeloupe', 'Martinique'\n",
    "    ],\n",
    "    'South America': [\n",
    "        'Argentina', 'Bolivia (Plurinational State of)', 'Brazil', 'Chile', 'Colombia', 'Ecuador', 'Guyana',\n",
    "        'Paraguay', 'Peru', 'Suriname', 'Uruguay', 'Venezuela (Bolivarian Republic of)'\n",
    "    ],\n",
    "    'Oceania': [\n",
    "        'Australia', 'Fiji', 'Kiribati', 'Marshall Islands', 'Micronesia', 'Nauru', 'New Zealand',\n",
    "        'Palau', 'Papua New Guinea', 'Samoa', 'Solomon Islands', 'Tonga', 'Tuvalu', 'Vanuatu',\n",
    "        'Cook Islands', 'New Caledonia', 'Polynesia', 'Guam'\n",
    "    ]\n",
    "}"
   ],
   "id": "initial_id"
  },
  {
   "metadata": {},
   "cell_type": "markdown",
   "source": "## Data",
   "id": "9f544e83e00f3bad"
  },
  {
   "metadata": {
    "ExecuteTime": {
     "end_time": "2024-09-28T20:02:01.056734Z",
     "start_time": "2024-09-28T20:02:01.034131Z"
    }
   },
   "cell_type": "code",
   "source": [
    "data = [\n",
    "    (\"Afghanistan\", 12), (\"Albania\", 20), (\"Algeria\", 23), (\"Angola\", 25), (\"Antigua and Barbuda\", 22),\n",
    "    (\"Argentina\", 25), (\"Armenia\", 9), (\"Aruba\", 14), (\"Australia\", 25), (\"Austria\", 12), (\"Azerbaijan\", 12),\n",
    "    (\"Bahamas\", 25), (\"Bahrain\", 24), (\"Bangladesh\", 25), (\"Barbados\", 13), (\"Belarus\", 12), (\"Belgium\", 25),\n",
    "    (\"Belize\", 10), (\"Bhutan\", 12), (\"Bolivia (Plurinational State of)\", 12), (\"Bosnia and Herzegovina\", 3),\n",
    "    (\"Botswana\", 12), (\"Brazil\", 25), (\"Brunei Darussalam\", 12), (\"Bulgaria\", 25), (\"Burkina Faso\", 12),\n",
    "    (\"Cabo Verde\", 25), (\"Cambodia\", 24), (\"Cameroon\", 23), (\"Canada\", 25), (\"Cayman Islands\", 9),\n",
    "    (\"Central and Southern Asia\", 58), (\"Chile\", 25), (\"China\", 25), (\"Colombia\", 25), (\"Congo\", 25),\n",
    "    (\"Cook Islands\", 11), (\"Costa Rica\", 25), (\"Côte d'Ivoire\", 24), (\"Croatia\", 25), (\"Cuba\", 25),\n",
    "    (\"Curaçao\", 11), (\"Cyprus\", 25), (\"Czechia\", 12), (\"Democratic People's Republic of Korea\", 10),\n",
    "    (\"Democratic Republic of the Congo\", 22), (\"Denmark\", 25), (\"Djibouti\", 13), (\"Dominican Republic\", 21),\n",
    "    (\"Ecuador\", 25), (\"Egypt\", 25), (\"El Salvador\", 25), (\"Equatorial Guinea\", 23), (\"Eritrea\", 8),\n",
    "    (\"Estonia\", 16), (\"Eswatini\", 10), (\"Ethiopia\", 12), (\"Faroe Islands\", 4), (\"Fiji\", 12), (\"Finland\", 25),\n",
    "    (\"France\", 25), (\"Gabon\", 13), (\"Gambia\", 6), (\"Georgia\", 23), (\"Germany\", 25), (\"Ghana\", 23), (\"Greece\", 25),\n",
    "    (\"Greenland\", 4), (\"Grenada\", 11), (\"Guadeloupe\", 13), (\"Guam\", 10), (\"Guatemala\", 23), (\"Guinea\", 11),\n",
    "    (\"Guyana\", 8), (\"Haiti\", 6), (\"Honduras\", 25), (\"Hungary\", 10), (\"Iceland\", 24), (\"India\", 25),\n",
    "    (\"Indonesia\", 25), (\"Iran (Islamic Republic of)\", 12), (\"Iraq\", 12), (\"Ireland\", 25), (\"Israel\", 25),\n",
    "    (\"Italy\", 25), (\"Jamaica\", 17), (\"Japan\", 25), (\"Jordan\", 24), (\"Kazakhstan\", 12), (\"Kenya\", 25),\n",
    "    (\"Kiribati\", 10), (\"Kuwait\", 12), (\"Kyrgyzstan\", 12), (\"Lao People's Democratic Republic\", 12),\n",
    "    (\"Latvia\", 25), (\"Lebanon\", 24), (\"Libya\", 12), (\"Lithuania\", 24), (\"Luxembourg\", 12), (\"Madagascar\", 12),\n",
    "    (\"Malawi\", 12), (\"Malaysia\", 25), (\"Maldives\", 12), (\"Malta\", 25), (\"Marshall Islands\", 12),\n",
    "    (\"Martinique\", 13), (\"Mauritania\", 10), (\"Mauritius\", 25), (\"Mayotte\", 11), (\"Mexico\", 25), (\"Micronesia\", 50),\n",
    "    (\"Monaco\", 4), (\"Mongolia\", 12), (\"Montenegro\", 21), (\"Morocco\", 25), (\"Mozambique\", 22), (\"Myanmar\", 25),\n",
    "    (\"Namibia\", 23), (\"Nauru\", 12), (\"Nepal\", 12), (\"Netherlands (Kingdom of the)\", 25),\n",
    "    (\"Netherlands Antilles  [former]\", 1), (\"New Caledonia\", 10), (\"New Zealand\", 25), (\"Nicaragua\", 13),\n",
    "    (\"Niger\", 6), (\"Nigeria\", 25), (\"Norway\", 25), (\"Oman\", 25), (\"Pakistan\", 25), (\"Panama\", 25),\n",
    "    (\"Papua New Guinea\", 19), (\"Paraguay\", 12), (\"Peru\", 25), (\"Philippines\", 25), (\"Poland\", 25),\n",
    "    (\"Polynesia\", 49), (\"Portugal\", 25), (\"Puerto Rico\", 13), (\"Qatar\", 24), (\"Republic of Korea\", 25),\n",
    "    (\"Republic of Moldova\", 12), (\"Réunion\", 13), (\"Romania\", 25), (\"Russian Federation\", 25), (\"Rwanda\", 12),\n",
    "    (\"Saint Lucia\", 10), (\"Saint Vincent and the Grenadines\", 11), (\"Samoa\", 21), (\"Sao Tome and Principe\", 10),\n",
    "    (\"Saudi Arabia\", 25), (\"Senegal\", 25), (\"Serbia\", 12), (\"Seychelles\", 12), (\"Singapore\", 25),\n",
    "    (\"Sint Maarten (Dutch part)\", 9), (\"Slovakia\", 8), (\"Slovenia\", 25), (\"Solomon Islands\", 11),\n",
    "    (\"Somalia\", 6), (\"South Africa\", 25), (\"Spain\", 25), (\"Sri Lanka\", 25), (\"Sudan\", 22), (\"Suriname\", 24),\n",
    "    (\"Sweden\", 24), (\"Switzerland\", 12), (\"Syrian Arab Republic\", 23), (\"Tajikistan\", 12), (\"Thailand\", 25),\n",
    "    (\"Togo\", 25), (\"Trinidad and Tobago\", 25), (\"Tunisia\", 25), (\"Türkiye\", 25), (\"Turkmenistan\", 12),\n",
    "    (\"Uganda\", 11), (\"Ukraine\", 24), (\"United Arab Emirates\", 25), (\"United Kingdom of Great Britain and Northern Ireland\", 25),\n",
    "    (\"United Republic of Tanzania\", 25), (\"United States of America\", 25), (\"Uruguay\", 13), (\"Uzbekistan\", 12),\n",
    "    (\"Vanuatu\", 12), (\"Venezuela (Bolivarian Republic of)\", 21), (\"Viet Nam\", 25), (\"Yemen\", 20), (\"Zambia\", 12), (\"Zimbabwe\", 8)\n",
    "]\n"
   ],
   "id": "19292af01ee80035",
   "outputs": [],
   "execution_count": 15
  },
  {
   "metadata": {},
   "cell_type": "markdown",
   "source": "## Split data into continents",
   "id": "66cf18ca0198ea3f"
  },
  {
   "metadata": {
    "ExecuteTime": {
     "end_time": "2024-09-28T20:02:01.111761Z",
     "start_time": "2024-09-28T20:02:01.106113Z"
    }
   },
   "cell_type": "code",
   "source": [
    "continents = {'Africa': [], 'Asia': [], 'Europe': [], 'North America': [], 'South America': [], 'Oceania': []}\n",
    "\n",
    "for country, count in data:\n",
    "    for continent, countries in continent_mapping.items():\n",
    "        if country in countries:\n",
    "            continents[continent].append((country, count))\n"
   ],
   "id": "23721836dfeaae98",
   "outputs": [],
   "execution_count": 16
  },
  {
   "metadata": {},
   "cell_type": "markdown",
   "source": "## Print data",
   "id": "d535552039d6b2d9"
  },
  {
   "metadata": {
    "ExecuteTime": {
     "end_time": "2024-09-28T20:02:01.129457Z",
     "start_time": "2024-09-28T20:02:01.124320Z"
    }
   },
   "cell_type": "code",
   "source": [
    "for continent, countries in continents.items():\n",
    "    print(f\"\\n{continent}:\")\n",
    "    for country in countries:\n",
    "        print(f\"{country[0]}: {country[1]}\")"
   ],
   "id": "8440bbe6f03db892",
   "outputs": [
    {
     "name": "stdout",
     "output_type": "stream",
     "text": [
      "\n",
      "Africa:\n",
      "Algeria: 23\n",
      "Angola: 25\n",
      "Botswana: 12\n",
      "Burkina Faso: 12\n",
      "Cabo Verde: 25\n",
      "Cameroon: 23\n",
      "Central and Southern Asia: 58\n",
      "Congo: 25\n",
      "Côte d'Ivoire: 24\n",
      "Democratic Republic of the Congo: 22\n",
      "Djibouti: 13\n",
      "Egypt: 25\n",
      "Equatorial Guinea: 23\n",
      "Eritrea: 8\n",
      "Eswatini: 10\n",
      "Ethiopia: 12\n",
      "Gabon: 13\n",
      "Gambia: 6\n",
      "Ghana: 23\n",
      "Guinea: 11\n",
      "Kenya: 25\n",
      "Libya: 12\n",
      "Madagascar: 12\n",
      "Malawi: 12\n",
      "Mauritania: 10\n",
      "Mauritius: 25\n",
      "Mayotte: 11\n",
      "Morocco: 25\n",
      "Mozambique: 22\n",
      "Namibia: 23\n",
      "Niger: 6\n",
      "Nigeria: 25\n",
      "Réunion: 13\n",
      "Rwanda: 12\n",
      "Sao Tome and Principe: 10\n",
      "Senegal: 25\n",
      "Seychelles: 12\n",
      "Somalia: 6\n",
      "South Africa: 25\n",
      "Sudan: 22\n",
      "Togo: 25\n",
      "Tunisia: 25\n",
      "Uganda: 11\n",
      "United Republic of Tanzania: 25\n",
      "Zambia: 12\n",
      "Zimbabwe: 8\n",
      "\n",
      "Asia:\n",
      "Afghanistan: 12\n",
      "Armenia: 9\n",
      "Azerbaijan: 12\n",
      "Bahrain: 24\n",
      "Bangladesh: 25\n",
      "Bhutan: 12\n",
      "Brunei Darussalam: 12\n",
      "Cambodia: 24\n",
      "China: 25\n",
      "Cyprus: 25\n",
      "Democratic People's Republic of Korea: 10\n",
      "Georgia: 23\n",
      "India: 25\n",
      "Indonesia: 25\n",
      "Iran (Islamic Republic of): 12\n",
      "Iraq: 12\n",
      "Israel: 25\n",
      "Japan: 25\n",
      "Jordan: 24\n",
      "Kazakhstan: 12\n",
      "Kuwait: 12\n",
      "Kyrgyzstan: 12\n",
      "Lao People's Democratic Republic: 12\n",
      "Lebanon: 24\n",
      "Malaysia: 25\n",
      "Maldives: 12\n",
      "Mongolia: 12\n",
      "Myanmar: 25\n",
      "Nepal: 12\n",
      "Oman: 25\n",
      "Pakistan: 25\n",
      "Philippines: 25\n",
      "Qatar: 24\n",
      "Republic of Korea: 25\n",
      "Saudi Arabia: 25\n",
      "Singapore: 25\n",
      "Sri Lanka: 25\n",
      "Syrian Arab Republic: 23\n",
      "Tajikistan: 12\n",
      "Thailand: 25\n",
      "Turkmenistan: 12\n",
      "United Arab Emirates: 25\n",
      "Uzbekistan: 12\n",
      "Viet Nam: 25\n",
      "Yemen: 20\n",
      "\n",
      "Europe:\n",
      "Albania: 20\n",
      "Austria: 12\n",
      "Belarus: 12\n",
      "Belgium: 25\n",
      "Bosnia and Herzegovina: 3\n",
      "Bulgaria: 25\n",
      "Croatia: 25\n",
      "Czechia: 12\n",
      "Denmark: 25\n",
      "Estonia: 16\n",
      "Faroe Islands: 4\n",
      "Finland: 25\n",
      "France: 25\n",
      "Germany: 25\n",
      "Greece: 25\n",
      "Greenland: 4\n",
      "Hungary: 10\n",
      "Iceland: 24\n",
      "Ireland: 25\n",
      "Italy: 25\n",
      "Latvia: 25\n",
      "Lithuania: 24\n",
      "Luxembourg: 12\n",
      "Malta: 25\n",
      "Monaco: 4\n",
      "Montenegro: 21\n",
      "Netherlands (Kingdom of the): 25\n",
      "Norway: 25\n",
      "Poland: 25\n",
      "Portugal: 25\n",
      "Republic of Moldova: 12\n",
      "Romania: 25\n",
      "Russian Federation: 25\n",
      "Serbia: 12\n",
      "Slovakia: 8\n",
      "Slovenia: 25\n",
      "Spain: 25\n",
      "Sweden: 24\n",
      "Switzerland: 12\n",
      "Türkiye: 25\n",
      "Ukraine: 24\n",
      "United Kingdom of Great Britain and Northern Ireland: 25\n",
      "\n",
      "North America:\n",
      "Antigua and Barbuda: 22\n",
      "Aruba: 14\n",
      "Bahamas: 25\n",
      "Barbados: 13\n",
      "Belize: 10\n",
      "Canada: 25\n",
      "Cayman Islands: 9\n",
      "Costa Rica: 25\n",
      "Cuba: 25\n",
      "Curaçao: 11\n",
      "Dominican Republic: 21\n",
      "El Salvador: 25\n",
      "Grenada: 11\n",
      "Guadeloupe: 13\n",
      "Guatemala: 23\n",
      "Haiti: 6\n",
      "Honduras: 25\n",
      "Jamaica: 17\n",
      "Martinique: 13\n",
      "Mexico: 25\n",
      "Nicaragua: 13\n",
      "Panama: 25\n",
      "Puerto Rico: 13\n",
      "Saint Lucia: 10\n",
      "Saint Vincent and the Grenadines: 11\n",
      "Sint Maarten (Dutch part): 9\n",
      "Trinidad and Tobago: 25\n",
      "United States of America: 25\n",
      "\n",
      "South America:\n",
      "Argentina: 25\n",
      "Bolivia (Plurinational State of): 12\n",
      "Brazil: 25\n",
      "Chile: 25\n",
      "Colombia: 25\n",
      "Ecuador: 25\n",
      "Guyana: 8\n",
      "Paraguay: 12\n",
      "Peru: 25\n",
      "Suriname: 24\n",
      "Uruguay: 13\n",
      "Venezuela (Bolivarian Republic of): 21\n",
      "\n",
      "Oceania:\n",
      "Australia: 25\n",
      "Cook Islands: 11\n",
      "Fiji: 12\n",
      "Guam: 10\n",
      "Kiribati: 10\n",
      "Marshall Islands: 12\n",
      "Micronesia: 50\n",
      "Nauru: 12\n",
      "New Caledonia: 10\n",
      "New Zealand: 25\n",
      "Papua New Guinea: 19\n",
      "Polynesia: 49\n",
      "Samoa: 21\n",
      "Solomon Islands: 11\n",
      "Vanuatu: 12\n"
     ]
    }
   ],
   "execution_count": 17
  },
  {
   "metadata": {},
   "cell_type": "markdown",
   "source": "## Check if all countries are classified",
   "id": "c8f7defa312b10a5"
  },
  {
   "metadata": {
    "ExecuteTime": {
     "end_time": "2024-09-28T20:02:01.169987Z",
     "start_time": "2024-09-28T20:02:01.164692Z"
    }
   },
   "cell_type": "code",
   "source": [
    "unclassified = []\n",
    "for country, count in data:\n",
    "    found = False\n",
    "    for continent, countries in continent_mapping.items():\n",
    "        if country in countries:\n",
    "            found = True\n",
    "            break\n",
    "    if not found:\n",
    "        unclassified.append((country, count))"
   ],
   "id": "40e2e57aecc6d090",
   "outputs": [],
   "execution_count": 18
  },
  {
   "metadata": {
    "ExecuteTime": {
     "end_time": "2024-09-28T20:02:01.190166Z",
     "start_time": "2024-09-28T20:02:01.185477Z"
    }
   },
   "cell_type": "code",
   "source": [
    "for country, count in unclassified:\n",
    "    print(f\"{country}: {count}\")"
   ],
   "id": "884c6f71e67039c6",
   "outputs": [
    {
     "name": "stdout",
     "output_type": "stream",
     "text": [
      "Netherlands Antilles  [former]: 1\n"
     ]
    }
   ],
   "execution_count": 19
  },
  {
   "metadata": {},
   "cell_type": "markdown",
   "source": "## Check total count per continent",
   "id": "26e444501ed152ba"
  },
  {
   "metadata": {
    "ExecuteTime": {
     "end_time": "2024-10-01T17:46:20.925271Z",
     "start_time": "2024-10-01T17:46:19.997856Z"
    }
   },
   "cell_type": "code",
   "source": [
    "continent_totals = {\n",
    "    'Africa': 0,\n",
    "    'Asia': 0,\n",
    "    'Europe': 0,\n",
    "    'North America': 0,\n",
    "    'South America': 0,\n",
    "    'Oceania': 0\n",
    "}\n",
    "\n",
    "for country, count in data:\n",
    "    for continent, countries in continent_mapping.items():\n",
    "        if country in countries:\n",
    "            continent_totals[continent] += count\n",
    "            break\n",
    "\n",
    "for continent, total in continent_totals.items():\n",
    "    print(f\"{continent}: {total}\")\n"
   ],
   "id": "30ccfb1a032cda79",
   "outputs": [
    {
     "ename": "NameError",
     "evalue": "name 'data' is not defined",
     "output_type": "error",
     "traceback": [
      "\u001B[1;31m---------------------------------------------------------------------------\u001B[0m",
      "\u001B[1;31mNameError\u001B[0m                                 Traceback (most recent call last)",
      "Cell \u001B[1;32mIn[1], line 10\u001B[0m\n\u001B[0;32m      1\u001B[0m continent_totals \u001B[38;5;241m=\u001B[39m {\n\u001B[0;32m      2\u001B[0m     \u001B[38;5;124m'\u001B[39m\u001B[38;5;124mAfrica\u001B[39m\u001B[38;5;124m'\u001B[39m: \u001B[38;5;241m0\u001B[39m,\n\u001B[0;32m      3\u001B[0m     \u001B[38;5;124m'\u001B[39m\u001B[38;5;124mAsia\u001B[39m\u001B[38;5;124m'\u001B[39m: \u001B[38;5;241m0\u001B[39m,\n\u001B[1;32m   (...)\u001B[0m\n\u001B[0;32m      7\u001B[0m     \u001B[38;5;124m'\u001B[39m\u001B[38;5;124mOceania\u001B[39m\u001B[38;5;124m'\u001B[39m: \u001B[38;5;241m0\u001B[39m\n\u001B[0;32m      8\u001B[0m }\n\u001B[1;32m---> 10\u001B[0m \u001B[38;5;28;01mfor\u001B[39;00m country, count \u001B[38;5;129;01min\u001B[39;00m data:\n\u001B[0;32m     11\u001B[0m     \u001B[38;5;28;01mfor\u001B[39;00m continent, countries \u001B[38;5;129;01min\u001B[39;00m continent_mapping\u001B[38;5;241m.\u001B[39mitems():\n\u001B[0;32m     12\u001B[0m         \u001B[38;5;28;01mif\u001B[39;00m country \u001B[38;5;129;01min\u001B[39;00m countries:\n",
      "\u001B[1;31mNameError\u001B[0m: name 'data' is not defined"
     ]
    }
   ],
   "execution_count": 1
  },
  {
   "metadata": {},
   "cell_type": "markdown",
   "source": "## Check which countries are in Asia",
   "id": "e215beb6ecd8100a"
  },
  {
   "metadata": {
    "ExecuteTime": {
     "end_time": "2024-09-28T20:04:02.266551Z",
     "start_time": "2024-09-28T20:04:02.261516Z"
    }
   },
   "cell_type": "code",
   "source": [
    "for country, total in continents[\"Asia\"]:\n",
    "    print(country)"
   ],
   "id": "de8c3e774f8e8d4d",
   "outputs": [
    {
     "name": "stdout",
     "output_type": "stream",
     "text": [
      "Afghanistan\n",
      "Armenia\n",
      "Azerbaijan\n",
      "Bahrain\n",
      "Bangladesh\n",
      "Bhutan\n",
      "Brunei Darussalam\n",
      "Cambodia\n",
      "China\n",
      "Cyprus\n",
      "Democratic People's Republic of Korea\n",
      "Georgia\n",
      "India\n",
      "Indonesia\n",
      "Iran (Islamic Republic of)\n",
      "Iraq\n",
      "Israel\n",
      "Japan\n",
      "Jordan\n",
      "Kazakhstan\n",
      "Kuwait\n",
      "Kyrgyzstan\n",
      "Lao People's Democratic Republic\n",
      "Lebanon\n",
      "Malaysia\n",
      "Maldives\n",
      "Mongolia\n",
      "Myanmar\n",
      "Nepal\n",
      "Oman\n",
      "Pakistan\n",
      "Philippines\n",
      "Qatar\n",
      "Republic of Korea\n",
      "Saudi Arabia\n",
      "Singapore\n",
      "Sri Lanka\n",
      "Syrian Arab Republic\n",
      "Tajikistan\n",
      "Thailand\n",
      "Turkmenistan\n",
      "United Arab Emirates\n",
      "Uzbekistan\n",
      "Viet Nam\n",
      "Yemen\n"
     ]
    }
   ],
   "execution_count": 21
  }
 ],
 "metadata": {
  "kernelspec": {
   "display_name": "Python 3",
   "language": "python",
   "name": "python3"
  },
  "language_info": {
   "codemirror_mode": {
    "name": "ipython",
    "version": 2
   },
   "file_extension": ".py",
   "mimetype": "text/x-python",
   "name": "python",
   "nbconvert_exporter": "python",
   "pygments_lexer": "ipython2",
   "version": "2.7.6"
  }
 },
 "nbformat": 4,
 "nbformat_minor": 5
}
