{
 "cells": [
  {
   "cell_type": "code",
   "id": "initial_id",
   "metadata": {
    "collapsed": true,
    "ExecuteTime": {
     "end_time": "2024-10-04T10:57:03.585815Z",
     "start_time": "2024-10-04T10:57:02.045042Z"
    }
   },
   "source": "import pandas as pd",
   "outputs": [],
   "execution_count": 2
  },
  {
   "metadata": {
    "ExecuteTime": {
     "end_time": "2024-10-04T10:58:45.694975Z",
     "start_time": "2024-10-04T10:58:44.205087Z"
    }
   },
   "cell_type": "code",
   "source": [
    "df = pd.read_excel('data/merged_freight_gdp_data.xlsx')\n",
    "df.head()"
   ],
   "id": "a414b2eab25e4fc5",
   "outputs": [
    {
     "data": {
      "text/plain": [
       "       Country  Year         Value      GDP     Scale Units_x\n",
       "0  Afghanistan  2017  2.146256e+07  74712.0  Billions    T_KM\n",
       "1  Afghanistan  2017  1.843686e+09  74712.0  Billions    P_KM\n",
       "2  Afghanistan  2018  2.955935e+07  77332.0  Billions    T_KM\n",
       "3  Afghanistan  2018  1.198398e+09  77332.0  Billions    P_KM\n",
       "4  Afghanistan  2019  2.001421e+07  81706.0  Billions    T_KM"
      ],
      "text/html": [
       "<div>\n",
       "<style scoped>\n",
       "    .dataframe tbody tr th:only-of-type {\n",
       "        vertical-align: middle;\n",
       "    }\n",
       "\n",
       "    .dataframe tbody tr th {\n",
       "        vertical-align: top;\n",
       "    }\n",
       "\n",
       "    .dataframe thead th {\n",
       "        text-align: right;\n",
       "    }\n",
       "</style>\n",
       "<table border=\"1\" class=\"dataframe\">\n",
       "  <thead>\n",
       "    <tr style=\"text-align: right;\">\n",
       "      <th></th>\n",
       "      <th>Country</th>\n",
       "      <th>Year</th>\n",
       "      <th>Value</th>\n",
       "      <th>GDP</th>\n",
       "      <th>Scale</th>\n",
       "      <th>Units_x</th>\n",
       "    </tr>\n",
       "  </thead>\n",
       "  <tbody>\n",
       "    <tr>\n",
       "      <th>0</th>\n",
       "      <td>Afghanistan</td>\n",
       "      <td>2017</td>\n",
       "      <td>2.146256e+07</td>\n",
       "      <td>74712.0</td>\n",
       "      <td>Billions</td>\n",
       "      <td>T_KM</td>\n",
       "    </tr>\n",
       "    <tr>\n",
       "      <th>1</th>\n",
       "      <td>Afghanistan</td>\n",
       "      <td>2017</td>\n",
       "      <td>1.843686e+09</td>\n",
       "      <td>74712.0</td>\n",
       "      <td>Billions</td>\n",
       "      <td>P_KM</td>\n",
       "    </tr>\n",
       "    <tr>\n",
       "      <th>2</th>\n",
       "      <td>Afghanistan</td>\n",
       "      <td>2018</td>\n",
       "      <td>2.955935e+07</td>\n",
       "      <td>77332.0</td>\n",
       "      <td>Billions</td>\n",
       "      <td>T_KM</td>\n",
       "    </tr>\n",
       "    <tr>\n",
       "      <th>3</th>\n",
       "      <td>Afghanistan</td>\n",
       "      <td>2018</td>\n",
       "      <td>1.198398e+09</td>\n",
       "      <td>77332.0</td>\n",
       "      <td>Billions</td>\n",
       "      <td>P_KM</td>\n",
       "    </tr>\n",
       "    <tr>\n",
       "      <th>4</th>\n",
       "      <td>Afghanistan</td>\n",
       "      <td>2019</td>\n",
       "      <td>2.001421e+07</td>\n",
       "      <td>81706.0</td>\n",
       "      <td>Billions</td>\n",
       "      <td>T_KM</td>\n",
       "    </tr>\n",
       "  </tbody>\n",
       "</table>\n",
       "</div>"
      ]
     },
     "execution_count": 5,
     "metadata": {},
     "output_type": "execute_result"
    }
   ],
   "execution_count": 5
  },
  {
   "metadata": {
    "ExecuteTime": {
     "end_time": "2024-10-04T10:59:02.938845Z",
     "start_time": "2024-10-04T10:59:02.908773Z"
    }
   },
   "cell_type": "code",
   "source": "df_pivot = df.pivot_table(index=['Country', 'Year', 'GDP'], columns='Units_x', values='Value').reset_index()",
   "id": "4a2d047152553308",
   "outputs": [],
   "execution_count": 6
  },
  {
   "metadata": {
    "ExecuteTime": {
     "end_time": "2024-10-04T10:59:32.340879Z",
     "start_time": "2024-10-04T10:59:32.333409Z"
    }
   },
   "cell_type": "code",
   "source": "df_pivot = df_pivot.fillna(0)",
   "id": "618671dd6061a3b",
   "outputs": [],
   "execution_count": 8
  },
  {
   "metadata": {
    "ExecuteTime": {
     "end_time": "2024-10-04T10:59:42.809333Z",
     "start_time": "2024-10-04T10:59:42.790507Z"
    }
   },
   "cell_type": "code",
   "source": "df_pivot.head()",
   "id": "8b3764bbf9493c52",
   "outputs": [
    {
     "data": {
      "text/plain": [
       "Units_x      Country  Year      GDP          P_KM  TEU        T_KM\n",
       "0        Afghanistan  2017  74712.0  1.843686e+09  0.0  21462557.0\n",
       "1        Afghanistan  2018  77332.0  1.198398e+09  0.0  29559349.0\n",
       "2        Afghanistan  2019  81706.0  1.039593e+09  0.0  20014206.0\n",
       "3        Afghanistan  2020  80839.0  5.044067e+08  0.0  19878902.0\n",
       "4        Afghanistan  2021  72251.0  3.000477e+08  0.0  12020125.0"
      ],
      "text/html": [
       "<div>\n",
       "<style scoped>\n",
       "    .dataframe tbody tr th:only-of-type {\n",
       "        vertical-align: middle;\n",
       "    }\n",
       "\n",
       "    .dataframe tbody tr th {\n",
       "        vertical-align: top;\n",
       "    }\n",
       "\n",
       "    .dataframe thead th {\n",
       "        text-align: right;\n",
       "    }\n",
       "</style>\n",
       "<table border=\"1\" class=\"dataframe\">\n",
       "  <thead>\n",
       "    <tr style=\"text-align: right;\">\n",
       "      <th>Units_x</th>\n",
       "      <th>Country</th>\n",
       "      <th>Year</th>\n",
       "      <th>GDP</th>\n",
       "      <th>P_KM</th>\n",
       "      <th>TEU</th>\n",
       "      <th>T_KM</th>\n",
       "    </tr>\n",
       "  </thead>\n",
       "  <tbody>\n",
       "    <tr>\n",
       "      <th>0</th>\n",
       "      <td>Afghanistan</td>\n",
       "      <td>2017</td>\n",
       "      <td>74712.0</td>\n",
       "      <td>1.843686e+09</td>\n",
       "      <td>0.0</td>\n",
       "      <td>21462557.0</td>\n",
       "    </tr>\n",
       "    <tr>\n",
       "      <th>1</th>\n",
       "      <td>Afghanistan</td>\n",
       "      <td>2018</td>\n",
       "      <td>77332.0</td>\n",
       "      <td>1.198398e+09</td>\n",
       "      <td>0.0</td>\n",
       "      <td>29559349.0</td>\n",
       "    </tr>\n",
       "    <tr>\n",
       "      <th>2</th>\n",
       "      <td>Afghanistan</td>\n",
       "      <td>2019</td>\n",
       "      <td>81706.0</td>\n",
       "      <td>1.039593e+09</td>\n",
       "      <td>0.0</td>\n",
       "      <td>20014206.0</td>\n",
       "    </tr>\n",
       "    <tr>\n",
       "      <th>3</th>\n",
       "      <td>Afghanistan</td>\n",
       "      <td>2020</td>\n",
       "      <td>80839.0</td>\n",
       "      <td>5.044067e+08</td>\n",
       "      <td>0.0</td>\n",
       "      <td>19878902.0</td>\n",
       "    </tr>\n",
       "    <tr>\n",
       "      <th>4</th>\n",
       "      <td>Afghanistan</td>\n",
       "      <td>2021</td>\n",
       "      <td>72251.0</td>\n",
       "      <td>3.000477e+08</td>\n",
       "      <td>0.0</td>\n",
       "      <td>12020125.0</td>\n",
       "    </tr>\n",
       "  </tbody>\n",
       "</table>\n",
       "</div>"
      ]
     },
     "execution_count": 9,
     "metadata": {},
     "output_type": "execute_result"
    }
   ],
   "execution_count": 9
  },
  {
   "metadata": {
    "ExecuteTime": {
     "end_time": "2024-10-04T11:00:04.071743Z",
     "start_time": "2024-10-04T11:00:04.040155Z"
    }
   },
   "cell_type": "code",
   "source": "df_pivot.describe()",
   "id": "9cd777eb6e881296",
   "outputs": [
    {
     "data": {
      "text/plain": [
       "Units_x         Year           GDP          P_KM           TEU          T_KM\n",
       "count     363.000000  3.630000e+02  3.630000e+02  3.630000e+02  3.630000e+02\n",
       "mean     2016.848485  1.663007e+06  3.400628e+10  1.255701e+07  1.256345e+09\n",
       "std         3.701824  4.041166e+06  1.204326e+11  3.858418e+07  4.297769e+09\n",
       "min      2010.000000  7.390000e+03  0.000000e+00  0.000000e+00  0.000000e+00\n",
       "25%      2014.000000  8.195650e+04  0.000000e+00  0.000000e+00  0.000000e+00\n",
       "50%      2017.000000  3.069810e+05  5.233700e+08  1.419227e+06  6.886070e+05\n",
       "75%      2020.000000  1.061928e+06  1.130138e+10  9.722217e+06  2.581795e+08\n",
       "max      2022.000000  3.019113e+07  1.169680e+12  2.689900e+08  3.336916e+10"
      ],
      "text/html": [
       "<div>\n",
       "<style scoped>\n",
       "    .dataframe tbody tr th:only-of-type {\n",
       "        vertical-align: middle;\n",
       "    }\n",
       "\n",
       "    .dataframe tbody tr th {\n",
       "        vertical-align: top;\n",
       "    }\n",
       "\n",
       "    .dataframe thead th {\n",
       "        text-align: right;\n",
       "    }\n",
       "</style>\n",
       "<table border=\"1\" class=\"dataframe\">\n",
       "  <thead>\n",
       "    <tr style=\"text-align: right;\">\n",
       "      <th>Units_x</th>\n",
       "      <th>Year</th>\n",
       "      <th>GDP</th>\n",
       "      <th>P_KM</th>\n",
       "      <th>TEU</th>\n",
       "      <th>T_KM</th>\n",
       "    </tr>\n",
       "  </thead>\n",
       "  <tbody>\n",
       "    <tr>\n",
       "      <th>count</th>\n",
       "      <td>363.000000</td>\n",
       "      <td>3.630000e+02</td>\n",
       "      <td>3.630000e+02</td>\n",
       "      <td>3.630000e+02</td>\n",
       "      <td>3.630000e+02</td>\n",
       "    </tr>\n",
       "    <tr>\n",
       "      <th>mean</th>\n",
       "      <td>2016.848485</td>\n",
       "      <td>1.663007e+06</td>\n",
       "      <td>3.400628e+10</td>\n",
       "      <td>1.255701e+07</td>\n",
       "      <td>1.256345e+09</td>\n",
       "    </tr>\n",
       "    <tr>\n",
       "      <th>std</th>\n",
       "      <td>3.701824</td>\n",
       "      <td>4.041166e+06</td>\n",
       "      <td>1.204326e+11</td>\n",
       "      <td>3.858418e+07</td>\n",
       "      <td>4.297769e+09</td>\n",
       "    </tr>\n",
       "    <tr>\n",
       "      <th>min</th>\n",
       "      <td>2010.000000</td>\n",
       "      <td>7.390000e+03</td>\n",
       "      <td>0.000000e+00</td>\n",
       "      <td>0.000000e+00</td>\n",
       "      <td>0.000000e+00</td>\n",
       "    </tr>\n",
       "    <tr>\n",
       "      <th>25%</th>\n",
       "      <td>2014.000000</td>\n",
       "      <td>8.195650e+04</td>\n",
       "      <td>0.000000e+00</td>\n",
       "      <td>0.000000e+00</td>\n",
       "      <td>0.000000e+00</td>\n",
       "    </tr>\n",
       "    <tr>\n",
       "      <th>50%</th>\n",
       "      <td>2017.000000</td>\n",
       "      <td>3.069810e+05</td>\n",
       "      <td>5.233700e+08</td>\n",
       "      <td>1.419227e+06</td>\n",
       "      <td>6.886070e+05</td>\n",
       "    </tr>\n",
       "    <tr>\n",
       "      <th>75%</th>\n",
       "      <td>2020.000000</td>\n",
       "      <td>1.061928e+06</td>\n",
       "      <td>1.130138e+10</td>\n",
       "      <td>9.722217e+06</td>\n",
       "      <td>2.581795e+08</td>\n",
       "    </tr>\n",
       "    <tr>\n",
       "      <th>max</th>\n",
       "      <td>2022.000000</td>\n",
       "      <td>3.019113e+07</td>\n",
       "      <td>1.169680e+12</td>\n",
       "      <td>2.689900e+08</td>\n",
       "      <td>3.336916e+10</td>\n",
       "    </tr>\n",
       "  </tbody>\n",
       "</table>\n",
       "</div>"
      ]
     },
     "execution_count": 10,
     "metadata": {},
     "output_type": "execute_result"
    }
   ],
   "execution_count": 10
  },
  {
   "metadata": {
    "ExecuteTime": {
     "end_time": "2024-10-04T11:01:26.226392Z",
     "start_time": "2024-10-04T11:01:26.114139Z"
    }
   },
   "cell_type": "code",
   "source": "df_pivot.to_excel('data/pivot_merged_table.xlsx', index=False)",
   "id": "19c1fd3a34443e30",
   "outputs": [],
   "execution_count": 11
  },
  {
   "metadata": {},
   "cell_type": "code",
   "outputs": [],
   "execution_count": null,
   "source": "",
   "id": "a50d08fba26dfc39"
  }
 ],
 "metadata": {
  "kernelspec": {
   "display_name": "Python 3",
   "language": "python",
   "name": "python3"
  },
  "language_info": {
   "codemirror_mode": {
    "name": "ipython",
    "version": 2
   },
   "file_extension": ".py",
   "mimetype": "text/x-python",
   "name": "python",
   "nbconvert_exporter": "python",
   "pygments_lexer": "ipython2",
   "version": "2.7.6"
  }
 },
 "nbformat": 4,
 "nbformat_minor": 5
}
