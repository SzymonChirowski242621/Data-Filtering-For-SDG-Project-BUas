{
 "cells": [
  {
   "metadata": {},
   "cell_type": "markdown",
   "source": "# Compare data from two Excel files",
   "id": "3fdb865c2864b65b"
  },
  {
   "cell_type": "code",
   "id": "initial_id",
   "metadata": {
    "collapsed": true,
    "ExecuteTime": {
     "end_time": "2024-09-29T13:20:46.207975Z",
     "start_time": "2024-09-29T13:20:46.202970Z"
    }
   },
   "source": "import pandas as pd",
   "outputs": [],
   "execution_count": 8
  },
  {
   "metadata": {},
   "cell_type": "markdown",
   "source": "## Concat Excel WEO_Data files",
   "id": "7402b14418371ac7"
  },
  {
   "metadata": {
    "ExecuteTime": {
     "end_time": "2024-09-29T13:20:46.291407Z",
     "start_time": "2024-09-29T13:20:46.284344Z"
    }
   },
   "cell_type": "code",
   "source": [
    "file_paths = []\n",
    "\n",
    "for i in range(4):\n",
    "    file_paths.append(f\"data/WEO_Data_P{i+1}.xlsx\")\n",
    "    \n",
    "file_paths"
   ],
   "id": "7317573424a75559",
   "outputs": [
    {
     "data": {
      "text/plain": [
       "['data/WEO_Data_P1.xlsx',\n",
       " 'data/WEO_Data_P2.xlsx',\n",
       " 'data/WEO_Data_P3.xlsx',\n",
       " 'data/WEO_Data_P4.xlsx']"
      ]
     },
     "execution_count": 9,
     "metadata": {},
     "output_type": "execute_result"
    }
   ],
   "execution_count": 9
  },
  {
   "metadata": {
    "ExecuteTime": {
     "end_time": "2024-09-29T13:20:46.458343Z",
     "start_time": "2024-09-29T13:20:46.454167Z"
    }
   },
   "cell_type": "code",
   "source": "dfs = []",
   "id": "1c5688accffe3b6c",
   "outputs": [],
   "execution_count": 10
  },
  {
   "metadata": {
    "ExecuteTime": {
     "end_time": "2024-09-29T13:21:02.532500Z",
     "start_time": "2024-09-29T13:21:02.322122Z"
    }
   },
   "cell_type": "code",
   "source": [
    "for file in file_paths:\n",
    "    df = pd.read_excel(file)\n",
    "    dfs.append(df)\n",
    "    \n",
    "dfs"
   ],
   "id": "111324cc3eed4149",
   "outputs": [
    {
     "data": {
      "text/plain": [
       "[                     Country                      Subject Descriptor  \\\n",
       " 0                Afghanistan  Gross domestic product, current prices   \n",
       " 1                    Armenia  Gross domestic product, current prices   \n",
       " 2                 Azerbaijan  Gross domestic product, current prices   \n",
       " 3                    Bahrain  Gross domestic product, current prices   \n",
       " 4   Islamic Republic of Iran  Gross domestic product, current prices   \n",
       " 5                       Iraq  Gross domestic product, current prices   \n",
       " 6                     Jordan  Gross domestic product, current prices   \n",
       " 7                 Kazakhstan  Gross domestic product, current prices   \n",
       " 8                     Kuwait  Gross domestic product, current prices   \n",
       " 9            Kyrgyz Republic  Gross domestic product, current prices   \n",
       " 10                   Lebanon  Gross domestic product, current prices   \n",
       " 11                      Oman  Gross domestic product, current prices   \n",
       " 12                  Pakistan  Gross domestic product, current prices   \n",
       " 13                     Qatar  Gross domestic product, current prices   \n",
       " 14              Saudi Arabia  Gross domestic product, current prices   \n",
       " 15                     Syria  Gross domestic product, current prices   \n",
       " 16                Tajikistan  Gross domestic product, current prices   \n",
       " 17              Turkmenistan  Gross domestic product, current prices   \n",
       " 18      United Arab Emirates  Gross domestic product, current prices   \n",
       " 19                Uzbekistan  Gross domestic product, current prices   \n",
       " 20                     Yemen  Gross domestic product, current prices   \n",
       " \n",
       "                                              Units     Scale  \\\n",
       " 0   Purchasing power parity; international dollars  Billions   \n",
       " 1   Purchasing power parity; international dollars  Billions   \n",
       " 2   Purchasing power parity; international dollars  Billions   \n",
       " 3   Purchasing power parity; international dollars  Billions   \n",
       " 4   Purchasing power parity; international dollars  Billions   \n",
       " 5   Purchasing power parity; international dollars  Billions   \n",
       " 6   Purchasing power parity; international dollars  Billions   \n",
       " 7   Purchasing power parity; international dollars  Billions   \n",
       " 8   Purchasing power parity; international dollars  Billions   \n",
       " 9   Purchasing power parity; international dollars  Billions   \n",
       " 10  Purchasing power parity; international dollars  Billions   \n",
       " 11  Purchasing power parity; international dollars  Billions   \n",
       " 12  Purchasing power parity; international dollars  Billions   \n",
       " 13  Purchasing power parity; international dollars  Billions   \n",
       " 14  Purchasing power parity; international dollars  Billions   \n",
       " 15  Purchasing power parity; international dollars  Billions   \n",
       " 16  Purchasing power parity; international dollars  Billions   \n",
       " 17  Purchasing power parity; international dollars  Billions   \n",
       " 18  Purchasing power parity; international dollars  Billions   \n",
       " 19  Purchasing power parity; international dollars  Billions   \n",
       " 20  Purchasing power parity; international dollars  Billions   \n",
       " \n",
       "                         Country/Series-specific Notes      2000      2001  \\\n",
       " 0   See notes for:  Gross domestic product, curren...       NaN       NaN   \n",
       " 1   See notes for:  Gross domestic product, curren...    8028.0    8986.0   \n",
       " 2   See notes for:  Gross domestic product, curren...   28468.0   30997.0   \n",
       " 3   See notes for:  Gross domestic product, curren...   28006.0   29350.0   \n",
       " 4   See notes for:  Gross domestic product, curren...  712630.0  746107.0   \n",
       " 5   See notes for:  Gross domestic product, curren...   98084.0   93704.0   \n",
       " 6   See notes for:  Gross domestic product, curren...   29972.0   32176.0   \n",
       " 7   See notes for:  Gross domestic product, curren...  114885.0  133329.0   \n",
       " 8   See notes for:  Gross domestic product, curren...  114747.0  117581.0   \n",
       " 9   See notes for:  Gross domestic product, curren...    9191.0    9898.0   \n",
       " 10  See notes for:  Gross domestic product, curren...   35286.0   37487.0   \n",
       " 11  See notes for:  Gross domestic product, curren...   90015.0   96287.0   \n",
       " 12  See notes for:  Gross domestic product, curren...  390390.0  413702.0   \n",
       " 13  See notes for:  Gross domestic product, curren...   57338.0   61267.0   \n",
       " 14  See notes for:  Gross domestic product, curren...  822458.0  830795.0   \n",
       " 15  See notes for:  Gross domestic product, curren...   71307.0   75596.0   \n",
       " 16  See notes for:  Gross domestic product, curren...    6605.0    7443.0   \n",
       " 17  See notes for:  Gross domestic product, curren...   17004.0   20932.0   \n",
       " 18  See notes for:  Gross domestic product, curren...  307872.0  319208.0   \n",
       " 19  See notes for:  Gross domestic product, curren...   65774.0   70079.0   \n",
       " 20  See notes for:  Gross domestic product, curren...   51486.0   54648.0   \n",
       " \n",
       "       2002    2003       2004  ...       2017       2018       2019  \\\n",
       " 0    19663   21794      22530  ...      74712      77332      81706   \n",
       " 1    10477   12186      13824  ...      35677      38401      42025   \n",
       " 2    34450   38716      43436  ...     139153     144433     150500   \n",
       " 3    30804   33390      36682  ...      71282      74454      77344   \n",
       " 4   818915  907227     972023  ...  1,281.375  1,286.637  1,268.064   \n",
       " 5    87741  162650     256191  ...     405430     434222     465209   \n",
       " 6    34827   36928      41052  ...      98365     102549     106097   \n",
       " 7   148669  165704     186493  ...     448473     477553     507421   \n",
       " 8   123008  147169     166602  ...     206276     216137     222801   \n",
       " 9    10050   10969      12055  ...      31280      33104      35208   \n",
       " 10   39364   40824      45066  ...     108794     109188     103344   \n",
       " 11   97017   96761     101343  ...     155415     161021     161875   \n",
       " 12  431152  462382     511332  ...  1,058.469  1,148.716  1,204.439   \n",
       " 13   66496   70512      86329  ...     249963     258847     265003   \n",
       " 14  819920  930103  1,031.124  ...  1,625.946  1,716.402  1,764.371   \n",
       " 15   81297   81214      89154  ...        NaN        NaN        NaN   \n",
       " 16    8247    9267      10525  ...      28887      31794      34720   \n",
       " 17   24609   29385      34608  ...      98988     103017     100906   \n",
       " 18  332057  368413     414511  ...     645503     668965     687733   \n",
       " 19   74015   78646      86737  ...     221561     239962     258584   \n",
       " 20   57681   61024      65154  ...      60514      62366      64744   \n",
       " \n",
       "          2020       2021       2022       2023       2024       2025  \\\n",
       " 0       80839      72251      72512        NaN        NaN        NaN   \n",
       " 1       39535      43698      52670      59347      64432      69011   \n",
       " 2      146084     161363     180629     189273     199195     207404   \n",
       " 3       74725      80176      90019      95742     101549     106608   \n",
       " 4   1,327.597  1,454.001  1,615.152  1,752.856  1,854.845  1,945.140   \n",
       " 5      414531     440388     504312     511320     530861     568924   \n",
       " 6      106312     115251     126361     134373     141191     147993   \n",
       " 7      500753     545187     602825     656669     693415     745503   \n",
       " 8      213837     227438     258395     261839     264301     279191   \n",
       " 9       33123      36549      41600      44925      48054      50946   \n",
       " 10      77581      73025      78166        NaN        NaN        NaN   \n",
       " 11     158471     170862     190776     200322     207604     217790   \n",
       " 12  1,208.832  1,337.211  1,519.657  1,572.439  1,642.572  1,730.052   \n",
       " 13     258950     275230     306981     323128     337521     350314   \n",
       " 14  1,723.643  1,894.161  2,179.304  2,241.692  2,354.392  2,538.925   \n",
       " 15        NaN        NaN        NaN        NaN        NaN        NaN   \n",
       " 16      36723      42017      48573      54497      59415      63184   \n",
       " 17     100075     104310     117590     124257     130172     135465   \n",
       " 18     662274     722802     834431     894285     948045  1,005.011   \n",
       " 19     267228     300171     339534     372987     401838     431000   \n",
       " 20      60023      62148      67521      68583      69535      71823   \n",
       " \n",
       "    Estimates Start After  \n",
       " 0                   2023  \n",
       " 1                   2022  \n",
       " 2                   2022  \n",
       " 3                   2022  \n",
       " 4                   2023  \n",
       " 5                   2022  \n",
       " 6                   2022  \n",
       " 7                   2022  \n",
       " 8                   2022  \n",
       " 9                   2023  \n",
       " 10                  2020  \n",
       " 11                  2022  \n",
       " 12                  2023  \n",
       " 13                  2022  \n",
       " 14                  2023  \n",
       " 15                  2010  \n",
       " 16                  2022  \n",
       " 17                  2022  \n",
       " 18                  2022  \n",
       " 19                  2023  \n",
       " 20                  2022  \n",
       " \n",
       " [21 rows x 32 columns],\n",
       "   Country                      Subject Descriptor  \\\n",
       " 0  Cyprus  Gross domestic product, current prices   \n",
       " \n",
       "                                             Units     Scale  \\\n",
       " 0  Purchasing power parity; international dollars  Billions   \n",
       " \n",
       "                        Country/Series-specific Notes   2000   2001   2002  \\\n",
       " 0  See notes for:  Gross domestic product, curren...  16154  17170  18087   \n",
       " \n",
       "     2003   2004  ...   2017   2018   2019   2020   2021   2022   2023   2024  \\\n",
       " 0  18927  20413  ...  33033  35698  38307  37476  43079  48445  51446  54104   \n",
       " \n",
       "     2025  Estimates Start After  \n",
       " 0  56641                   2023  \n",
       " \n",
       " [1 rows x 32 columns],\n",
       "               Country                      Subject Descriptor  \\\n",
       " 0          Bangladesh  Gross domestic product, current prices   \n",
       " 1              Bhutan  Gross domestic product, current prices   \n",
       " 2   Brunei Darussalam  Gross domestic product, current prices   \n",
       " 3            Cambodia  Gross domestic product, current prices   \n",
       " 4               China  Gross domestic product, current prices   \n",
       " 5               India  Gross domestic product, current prices   \n",
       " 6           Indonesia  Gross domestic product, current prices   \n",
       " 7          Lao P.D.R.  Gross domestic product, current prices   \n",
       " 8            Malaysia  Gross domestic product, current prices   \n",
       " 9            Maldives  Gross domestic product, current prices   \n",
       " 10              Nepal  Gross domestic product, current prices   \n",
       " 11        Philippines  Gross domestic product, current prices   \n",
       " 12          Sri Lanka  Gross domestic product, current prices   \n",
       " 13           Thailand  Gross domestic product, current prices   \n",
       " 14            Vietnam  Gross domestic product, current prices   \n",
       " \n",
       "                                              Units     Scale  \\\n",
       " 0   Purchasing power parity; international dollars  Billions   \n",
       " 1   Purchasing power parity; international dollars  Billions   \n",
       " 2   Purchasing power parity; international dollars  Billions   \n",
       " 3   Purchasing power parity; international dollars  Billions   \n",
       " 4   Purchasing power parity; international dollars  Billions   \n",
       " 5   Purchasing power parity; international dollars  Billions   \n",
       " 6   Purchasing power parity; international dollars  Billions   \n",
       " 7   Purchasing power parity; international dollars  Billions   \n",
       " 8   Purchasing power parity; international dollars  Billions   \n",
       " 9   Purchasing power parity; international dollars  Billions   \n",
       " 10  Purchasing power parity; international dollars  Billions   \n",
       " 11  Purchasing power parity; international dollars  Billions   \n",
       " 12  Purchasing power parity; international dollars  Billions   \n",
       " 13  Purchasing power parity; international dollars  Billions   \n",
       " 14  Purchasing power parity; international dollars  Billions   \n",
       " \n",
       "                         Country/Series-specific Notes       2000       2001  \\\n",
       " 0   See notes for:  Gross domestic product, curren...     217366     232128   \n",
       " 1   See notes for:  Gross domestic product, curren...       1687       1846   \n",
       " 2   See notes for:  Gross domestic product, curren...      22113      23231   \n",
       " 3   See notes for:  Gross domestic product, curren...      15648      17183   \n",
       " 4   See notes for:  Gross domestic product, curren...  3,657.926  4,051.443   \n",
       " 5   See notes for:  Gross domestic product, curren...  2,211.969  2,370.881   \n",
       " 6   See notes for:  Gross domestic product, curren...     986953  1,045.944   \n",
       " 7   See notes for:  Gross domestic product, curren...       9926      10634   \n",
       " 8   See notes for:  Gross domestic product, curren...     304199     312658   \n",
       " 9   See notes for:  Gross domestic product, curren...       2304       2390   \n",
       " 10  See notes for:  Gross domestic product, curren...      32070      34638   \n",
       " 11  See notes for:  Gross domestic product, curren...     267984     282373   \n",
       " 12  See notes for:  Gross domestic product, curren...      84808      85029   \n",
       " 13  See notes for:  Gross domestic product, curren...     459271     485786   \n",
       " 14  See notes for:  Gross domestic product, curren...     197660     216045   \n",
       " \n",
       "          2002       2003       2004  ...        2017        2018        2019  \\\n",
       " 0      245860     263238     286276  ...      834543      918629      986177   \n",
       " 1        2053       2283       2495  ...        8455        8952        9526   \n",
       " 2       24505      25715      26539  ...       25891       26498       27985   \n",
       " 3       18543      20854      23440  ...       83248       92628      101658   \n",
       " 4   4,489.411  5,036.827  5,695.402  ...  19,814.058  21,636.218  23,308.573   \n",
       " 5   2,499.311  2,748.989  3,046.562  ...   8,276.933   9,012.957   9,519.036   \n",
       " 6   1,109.992  1,186.015  1,279.177  ...   2,894.126   3,113.605   3,324.773   \n",
       " 7       11535      12489      13747  ...       50445       54846       58361   \n",
       " 8      334635     360995     395845  ...      829297      889379      944217   \n",
       " 9        2575       2998       3264  ...        8964        9964       10871   \n",
       " 10      35218      37330      40129  ...       98516      108454      117616   \n",
       " 11     297418     318718     348788  ...      854095      929064   1,002.458   \n",
       " 12      89568      96762     104774  ...      291299      304856      309290   \n",
       " 13     523671     572401     624760  ...   1,205.839   1,285.550   1,334.769   \n",
       " 14     234937     257163     284648  ...      851064      935547   1,021.256   \n",
       " \n",
       "           2020        2021        2022        2023        2024        2025  \\\n",
       " 0    1,051.387   1,176.807   1,342.098   1,475.140   1,619.803   1,766.208   \n",
       " 1         9414        9522       10684       11588       12377       13221   \n",
       " 2        28676       29514       31077       32663       34249       35731   \n",
       " 3        99338      107103      120495      131129      142392      153771   \n",
       " 4   24,145.859  27,386.733  30,191.127  32,931.360  35,291.015  37,381.168   \n",
       " 5    9,087.493  10,425.074  11,938.765  13,342.452  14,594.460  15,811.016   \n",
       " 6    3,299.097   3,578.125   4,033.329   4,391.378   4,720.542   5,046.652   \n",
       " 7        58875       62843       68783       73926       78713       83285   \n",
       " 8       904480      977146   1,136.421   1,221.195   1,305.942   1,387.383   \n",
       " 9         7390       10641       12974       14042       15124       16392   \n",
       " 10      116345      127566      144213      150713      159139      170353   \n",
       " 11      919019   1,016.084   1,169.961   1,280.127   1,391.800   1,503.837   \n",
       " 12      298882      323564      319248         NaN         NaN         NaN   \n",
       " 13   1,270.575   1,349.416   1,480.690   1,563.385   1,644.322   1,721.857   \n",
       " 14   1,064.410   1,141.622   1,321.271   1,438.541   1,558.898   1,689.514   \n",
       " \n",
       "    Estimates Start After  \n",
       " 0                   2023  \n",
       " 1                   2022  \n",
       " 2                   2023  \n",
       " 3                   2022  \n",
       " 4                   2023  \n",
       " 5                   2023  \n",
       " 6                   2023  \n",
       " 7                   2022  \n",
       " 8                   2023  \n",
       " 9                   2022  \n",
       " 10                  2022  \n",
       " 11                  2023  \n",
       " 12                  2021  \n",
       " 13                  2023  \n",
       " 14                  2023  \n",
       " \n",
       " [15 rows x 32 columns],\n",
       "   Country                      Subject Descriptor  \\\n",
       " 0   Japan  Gross domestic product, current prices   \n",
       " \n",
       "                                             Units     Scale  \\\n",
       " 0  Purchasing power parity; international dollars  Billions   \n",
       " \n",
       "                        Country/Series-specific Notes       2000       2001  \\\n",
       " 0  See notes for:  Gross domestic product, curren...  3,476.779  3,568.789   \n",
       " \n",
       "         2002       2003       2004  ...       2017       2018       2019  \\\n",
       " 0  3,625.770  3,754.110  3,939.329  ...  5,248.419  5,403.192  5,471.792   \n",
       " \n",
       "         2020       2021       2022       2023       2024       2025  \\\n",
       " 0  5,314.130  5,700.028  6,159.757  6,507.063  6,720.962  6,908.425   \n",
       " \n",
       "   Estimates Start After  \n",
       " 0                  2023  \n",
       " \n",
       " [1 rows x 32 columns],\n",
       "                      Country                      Subject Descriptor  \\\n",
       " 0                Afghanistan  Gross domestic product, current prices   \n",
       " 1                    Armenia  Gross domestic product, current prices   \n",
       " 2                 Azerbaijan  Gross domestic product, current prices   \n",
       " 3                    Bahrain  Gross domestic product, current prices   \n",
       " 4   Islamic Republic of Iran  Gross domestic product, current prices   \n",
       " 5                       Iraq  Gross domestic product, current prices   \n",
       " 6                     Jordan  Gross domestic product, current prices   \n",
       " 7                 Kazakhstan  Gross domestic product, current prices   \n",
       " 8                     Kuwait  Gross domestic product, current prices   \n",
       " 9            Kyrgyz Republic  Gross domestic product, current prices   \n",
       " 10                   Lebanon  Gross domestic product, current prices   \n",
       " 11                      Oman  Gross domestic product, current prices   \n",
       " 12                  Pakistan  Gross domestic product, current prices   \n",
       " 13                     Qatar  Gross domestic product, current prices   \n",
       " 14              Saudi Arabia  Gross domestic product, current prices   \n",
       " 15                     Syria  Gross domestic product, current prices   \n",
       " 16                Tajikistan  Gross domestic product, current prices   \n",
       " 17              Turkmenistan  Gross domestic product, current prices   \n",
       " 18      United Arab Emirates  Gross domestic product, current prices   \n",
       " 19                Uzbekistan  Gross domestic product, current prices   \n",
       " 20                     Yemen  Gross domestic product, current prices   \n",
       " \n",
       "                                              Units     Scale  \\\n",
       " 0   Purchasing power parity; international dollars  Billions   \n",
       " 1   Purchasing power parity; international dollars  Billions   \n",
       " 2   Purchasing power parity; international dollars  Billions   \n",
       " 3   Purchasing power parity; international dollars  Billions   \n",
       " 4   Purchasing power parity; international dollars  Billions   \n",
       " 5   Purchasing power parity; international dollars  Billions   \n",
       " 6   Purchasing power parity; international dollars  Billions   \n",
       " 7   Purchasing power parity; international dollars  Billions   \n",
       " 8   Purchasing power parity; international dollars  Billions   \n",
       " 9   Purchasing power parity; international dollars  Billions   \n",
       " 10  Purchasing power parity; international dollars  Billions   \n",
       " 11  Purchasing power parity; international dollars  Billions   \n",
       " 12  Purchasing power parity; international dollars  Billions   \n",
       " 13  Purchasing power parity; international dollars  Billions   \n",
       " 14  Purchasing power parity; international dollars  Billions   \n",
       " 15  Purchasing power parity; international dollars  Billions   \n",
       " 16  Purchasing power parity; international dollars  Billions   \n",
       " 17  Purchasing power parity; international dollars  Billions   \n",
       " 18  Purchasing power parity; international dollars  Billions   \n",
       " 19  Purchasing power parity; international dollars  Billions   \n",
       " 20  Purchasing power parity; international dollars  Billions   \n",
       " \n",
       "                         Country/Series-specific Notes      2000      2001  \\\n",
       " 0   See notes for:  Gross domestic product, curren...       NaN       NaN   \n",
       " 1   See notes for:  Gross domestic product, curren...    8028.0    8986.0   \n",
       " 2   See notes for:  Gross domestic product, curren...   28468.0   30997.0   \n",
       " 3   See notes for:  Gross domestic product, curren...   28006.0   29350.0   \n",
       " 4   See notes for:  Gross domestic product, curren...  712630.0  746107.0   \n",
       " 5   See notes for:  Gross domestic product, curren...   98084.0   93704.0   \n",
       " 6   See notes for:  Gross domestic product, curren...   29972.0   32176.0   \n",
       " 7   See notes for:  Gross domestic product, curren...  114885.0  133329.0   \n",
       " 8   See notes for:  Gross domestic product, curren...  114747.0  117581.0   \n",
       " 9   See notes for:  Gross domestic product, curren...    9191.0    9898.0   \n",
       " 10  See notes for:  Gross domestic product, curren...   35286.0   37487.0   \n",
       " 11  See notes for:  Gross domestic product, curren...   90015.0   96287.0   \n",
       " 12  See notes for:  Gross domestic product, curren...  390390.0  413702.0   \n",
       " 13  See notes for:  Gross domestic product, curren...   57338.0   61267.0   \n",
       " 14  See notes for:  Gross domestic product, curren...  822458.0  830795.0   \n",
       " 15  See notes for:  Gross domestic product, curren...   71307.0   75596.0   \n",
       " 16  See notes for:  Gross domestic product, curren...    6605.0    7443.0   \n",
       " 17  See notes for:  Gross domestic product, curren...   17004.0   20932.0   \n",
       " 18  See notes for:  Gross domestic product, curren...  307872.0  319208.0   \n",
       " 19  See notes for:  Gross domestic product, curren...   65774.0   70079.0   \n",
       " 20  See notes for:  Gross domestic product, curren...   51486.0   54648.0   \n",
       " \n",
       "       2002    2003       2004  ...       2017       2018       2019  \\\n",
       " 0    19663   21794      22530  ...      74712      77332      81706   \n",
       " 1    10477   12186      13824  ...      35677      38401      42025   \n",
       " 2    34450   38716      43436  ...     139153     144433     150500   \n",
       " 3    30804   33390      36682  ...      71282      74454      77344   \n",
       " 4   818915  907227     972023  ...  1,281.375  1,286.637  1,268.064   \n",
       " 5    87741  162650     256191  ...     405430     434222     465209   \n",
       " 6    34827   36928      41052  ...      98365     102549     106097   \n",
       " 7   148669  165704     186493  ...     448473     477553     507421   \n",
       " 8   123008  147169     166602  ...     206276     216137     222801   \n",
       " 9    10050   10969      12055  ...      31280      33104      35208   \n",
       " 10   39364   40824      45066  ...     108794     109188     103344   \n",
       " 11   97017   96761     101343  ...     155415     161021     161875   \n",
       " 12  431152  462382     511332  ...  1,058.469  1,148.716  1,204.439   \n",
       " 13   66496   70512      86329  ...     249963     258847     265003   \n",
       " 14  819920  930103  1,031.124  ...  1,625.946  1,716.402  1,764.371   \n",
       " 15   81297   81214      89154  ...        NaN        NaN        NaN   \n",
       " 16    8247    9267      10525  ...      28887      31794      34720   \n",
       " 17   24609   29385      34608  ...      98988     103017     100906   \n",
       " 18  332057  368413     414511  ...     645503     668965     687733   \n",
       " 19   74015   78646      86737  ...     221561     239962     258584   \n",
       " 20   57681   61024      65154  ...      60514      62366      64744   \n",
       " \n",
       "          2020       2021       2022       2023       2024       2025  \\\n",
       " 0       80839      72251      72512        NaN        NaN        NaN   \n",
       " 1       39535      43698      52670      59347      64432      69011   \n",
       " 2      146084     161363     180629     189273     199195     207404   \n",
       " 3       74725      80176      90019      95742     101549     106608   \n",
       " 4   1,327.597  1,454.001  1,615.152  1,752.856  1,854.845  1,945.140   \n",
       " 5      414531     440388     504312     511320     530861     568924   \n",
       " 6      106312     115251     126361     134373     141191     147993   \n",
       " 7      500753     545187     602825     656669     693415     745503   \n",
       " 8      213837     227438     258395     261839     264301     279191   \n",
       " 9       33123      36549      41600      44925      48054      50946   \n",
       " 10      77581      73025      78166        NaN        NaN        NaN   \n",
       " 11     158471     170862     190776     200322     207604     217790   \n",
       " 12  1,208.832  1,337.211  1,519.657  1,572.439  1,642.572  1,730.052   \n",
       " 13     258950     275230     306981     323128     337521     350314   \n",
       " 14  1,723.643  1,894.161  2,179.304  2,241.692  2,354.392  2,538.925   \n",
       " 15        NaN        NaN        NaN        NaN        NaN        NaN   \n",
       " 16      36723      42017      48573      54497      59415      63184   \n",
       " 17     100075     104310     117590     124257     130172     135465   \n",
       " 18     662274     722802     834431     894285     948045  1,005.011   \n",
       " 19     267228     300171     339534     372987     401838     431000   \n",
       " 20      60023      62148      67521      68583      69535      71823   \n",
       " \n",
       "    Estimates Start After  \n",
       " 0                   2023  \n",
       " 1                   2022  \n",
       " 2                   2022  \n",
       " 3                   2022  \n",
       " 4                   2023  \n",
       " 5                   2022  \n",
       " 6                   2022  \n",
       " 7                   2022  \n",
       " 8                   2022  \n",
       " 9                   2023  \n",
       " 10                  2020  \n",
       " 11                  2022  \n",
       " 12                  2023  \n",
       " 13                  2022  \n",
       " 14                  2023  \n",
       " 15                  2010  \n",
       " 16                  2022  \n",
       " 17                  2022  \n",
       " 18                  2022  \n",
       " 19                  2023  \n",
       " 20                  2022  \n",
       " \n",
       " [21 rows x 32 columns],\n",
       "   Country                      Subject Descriptor  \\\n",
       " 0  Cyprus  Gross domestic product, current prices   \n",
       " \n",
       "                                             Units     Scale  \\\n",
       " 0  Purchasing power parity; international dollars  Billions   \n",
       " \n",
       "                        Country/Series-specific Notes   2000   2001   2002  \\\n",
       " 0  See notes for:  Gross domestic product, curren...  16154  17170  18087   \n",
       " \n",
       "     2003   2004  ...   2017   2018   2019   2020   2021   2022   2023   2024  \\\n",
       " 0  18927  20413  ...  33033  35698  38307  37476  43079  48445  51446  54104   \n",
       " \n",
       "     2025  Estimates Start After  \n",
       " 0  56641                   2023  \n",
       " \n",
       " [1 rows x 32 columns],\n",
       "               Country                      Subject Descriptor  \\\n",
       " 0          Bangladesh  Gross domestic product, current prices   \n",
       " 1              Bhutan  Gross domestic product, current prices   \n",
       " 2   Brunei Darussalam  Gross domestic product, current prices   \n",
       " 3            Cambodia  Gross domestic product, current prices   \n",
       " 4               China  Gross domestic product, current prices   \n",
       " 5               India  Gross domestic product, current prices   \n",
       " 6           Indonesia  Gross domestic product, current prices   \n",
       " 7          Lao P.D.R.  Gross domestic product, current prices   \n",
       " 8            Malaysia  Gross domestic product, current prices   \n",
       " 9            Maldives  Gross domestic product, current prices   \n",
       " 10              Nepal  Gross domestic product, current prices   \n",
       " 11        Philippines  Gross domestic product, current prices   \n",
       " 12          Sri Lanka  Gross domestic product, current prices   \n",
       " 13           Thailand  Gross domestic product, current prices   \n",
       " 14            Vietnam  Gross domestic product, current prices   \n",
       " \n",
       "                                              Units     Scale  \\\n",
       " 0   Purchasing power parity; international dollars  Billions   \n",
       " 1   Purchasing power parity; international dollars  Billions   \n",
       " 2   Purchasing power parity; international dollars  Billions   \n",
       " 3   Purchasing power parity; international dollars  Billions   \n",
       " 4   Purchasing power parity; international dollars  Billions   \n",
       " 5   Purchasing power parity; international dollars  Billions   \n",
       " 6   Purchasing power parity; international dollars  Billions   \n",
       " 7   Purchasing power parity; international dollars  Billions   \n",
       " 8   Purchasing power parity; international dollars  Billions   \n",
       " 9   Purchasing power parity; international dollars  Billions   \n",
       " 10  Purchasing power parity; international dollars  Billions   \n",
       " 11  Purchasing power parity; international dollars  Billions   \n",
       " 12  Purchasing power parity; international dollars  Billions   \n",
       " 13  Purchasing power parity; international dollars  Billions   \n",
       " 14  Purchasing power parity; international dollars  Billions   \n",
       " \n",
       "                         Country/Series-specific Notes       2000       2001  \\\n",
       " 0   See notes for:  Gross domestic product, curren...     217366     232128   \n",
       " 1   See notes for:  Gross domestic product, curren...       1687       1846   \n",
       " 2   See notes for:  Gross domestic product, curren...      22113      23231   \n",
       " 3   See notes for:  Gross domestic product, curren...      15648      17183   \n",
       " 4   See notes for:  Gross domestic product, curren...  3,657.926  4,051.443   \n",
       " 5   See notes for:  Gross domestic product, curren...  2,211.969  2,370.881   \n",
       " 6   See notes for:  Gross domestic product, curren...     986953  1,045.944   \n",
       " 7   See notes for:  Gross domestic product, curren...       9926      10634   \n",
       " 8   See notes for:  Gross domestic product, curren...     304199     312658   \n",
       " 9   See notes for:  Gross domestic product, curren...       2304       2390   \n",
       " 10  See notes for:  Gross domestic product, curren...      32070      34638   \n",
       " 11  See notes for:  Gross domestic product, curren...     267984     282373   \n",
       " 12  See notes for:  Gross domestic product, curren...      84808      85029   \n",
       " 13  See notes for:  Gross domestic product, curren...     459271     485786   \n",
       " 14  See notes for:  Gross domestic product, curren...     197660     216045   \n",
       " \n",
       "          2002       2003       2004  ...        2017        2018        2019  \\\n",
       " 0      245860     263238     286276  ...      834543      918629      986177   \n",
       " 1        2053       2283       2495  ...        8455        8952        9526   \n",
       " 2       24505      25715      26539  ...       25891       26498       27985   \n",
       " 3       18543      20854      23440  ...       83248       92628      101658   \n",
       " 4   4,489.411  5,036.827  5,695.402  ...  19,814.058  21,636.218  23,308.573   \n",
       " 5   2,499.311  2,748.989  3,046.562  ...   8,276.933   9,012.957   9,519.036   \n",
       " 6   1,109.992  1,186.015  1,279.177  ...   2,894.126   3,113.605   3,324.773   \n",
       " 7       11535      12489      13747  ...       50445       54846       58361   \n",
       " 8      334635     360995     395845  ...      829297      889379      944217   \n",
       " 9        2575       2998       3264  ...        8964        9964       10871   \n",
       " 10      35218      37330      40129  ...       98516      108454      117616   \n",
       " 11     297418     318718     348788  ...      854095      929064   1,002.458   \n",
       " 12      89568      96762     104774  ...      291299      304856      309290   \n",
       " 13     523671     572401     624760  ...   1,205.839   1,285.550   1,334.769   \n",
       " 14     234937     257163     284648  ...      851064      935547   1,021.256   \n",
       " \n",
       "           2020        2021        2022        2023        2024        2025  \\\n",
       " 0    1,051.387   1,176.807   1,342.098   1,475.140   1,619.803   1,766.208   \n",
       " 1         9414        9522       10684       11588       12377       13221   \n",
       " 2        28676       29514       31077       32663       34249       35731   \n",
       " 3        99338      107103      120495      131129      142392      153771   \n",
       " 4   24,145.859  27,386.733  30,191.127  32,931.360  35,291.015  37,381.168   \n",
       " 5    9,087.493  10,425.074  11,938.765  13,342.452  14,594.460  15,811.016   \n",
       " 6    3,299.097   3,578.125   4,033.329   4,391.378   4,720.542   5,046.652   \n",
       " 7        58875       62843       68783       73926       78713       83285   \n",
       " 8       904480      977146   1,136.421   1,221.195   1,305.942   1,387.383   \n",
       " 9         7390       10641       12974       14042       15124       16392   \n",
       " 10      116345      127566      144213      150713      159139      170353   \n",
       " 11      919019   1,016.084   1,169.961   1,280.127   1,391.800   1,503.837   \n",
       " 12      298882      323564      319248         NaN         NaN         NaN   \n",
       " 13   1,270.575   1,349.416   1,480.690   1,563.385   1,644.322   1,721.857   \n",
       " 14   1,064.410   1,141.622   1,321.271   1,438.541   1,558.898   1,689.514   \n",
       " \n",
       "    Estimates Start After  \n",
       " 0                   2023  \n",
       " 1                   2022  \n",
       " 2                   2023  \n",
       " 3                   2022  \n",
       " 4                   2023  \n",
       " 5                   2023  \n",
       " 6                   2023  \n",
       " 7                   2022  \n",
       " 8                   2023  \n",
       " 9                   2022  \n",
       " 10                  2022  \n",
       " 11                  2023  \n",
       " 12                  2021  \n",
       " 13                  2023  \n",
       " 14                  2023  \n",
       " \n",
       " [15 rows x 32 columns],\n",
       "   Country                      Subject Descriptor  \\\n",
       " 0   Japan  Gross domestic product, current prices   \n",
       " \n",
       "                                             Units     Scale  \\\n",
       " 0  Purchasing power parity; international dollars  Billions   \n",
       " \n",
       "                        Country/Series-specific Notes       2000       2001  \\\n",
       " 0  See notes for:  Gross domestic product, curren...  3,476.779  3,568.789   \n",
       " \n",
       "         2002       2003       2004  ...       2017       2018       2019  \\\n",
       " 0  3,625.770  3,754.110  3,939.329  ...  5,248.419  5,403.192  5,471.792   \n",
       " \n",
       "         2020       2021       2022       2023       2024       2025  \\\n",
       " 0  5,314.130  5,700.028  6,159.757  6,507.063  6,720.962  6,908.425   \n",
       " \n",
       "   Estimates Start After  \n",
       " 0                  2023  \n",
       " \n",
       " [1 rows x 32 columns]]"
      ]
     },
     "execution_count": 14,
     "metadata": {},
     "output_type": "execute_result"
    }
   ],
   "execution_count": 14
  },
  {
   "metadata": {
    "ExecuteTime": {
     "end_time": "2024-09-29T13:21:11.331556Z",
     "start_time": "2024-09-29T13:21:11.304042Z"
    }
   },
   "cell_type": "code",
   "source": [
    "combined_df = pd.concat(dfs, ignore_index=True)\n",
    "\n",
    "combined_df"
   ],
   "id": "6d1960b8ae11dd59",
   "outputs": [
    {
     "data": {
      "text/plain": [
       "                     Country                      Subject Descriptor  \\\n",
       "0                Afghanistan  Gross domestic product, current prices   \n",
       "1                    Armenia  Gross domestic product, current prices   \n",
       "2                 Azerbaijan  Gross domestic product, current prices   \n",
       "3                    Bahrain  Gross domestic product, current prices   \n",
       "4   Islamic Republic of Iran  Gross domestic product, current prices   \n",
       "..                       ...                                     ...   \n",
       "71               Philippines  Gross domestic product, current prices   \n",
       "72                 Sri Lanka  Gross domestic product, current prices   \n",
       "73                  Thailand  Gross domestic product, current prices   \n",
       "74                   Vietnam  Gross domestic product, current prices   \n",
       "75                     Japan  Gross domestic product, current prices   \n",
       "\n",
       "                                             Units     Scale  \\\n",
       "0   Purchasing power parity; international dollars  Billions   \n",
       "1   Purchasing power parity; international dollars  Billions   \n",
       "2   Purchasing power parity; international dollars  Billions   \n",
       "3   Purchasing power parity; international dollars  Billions   \n",
       "4   Purchasing power parity; international dollars  Billions   \n",
       "..                                             ...       ...   \n",
       "71  Purchasing power parity; international dollars  Billions   \n",
       "72  Purchasing power parity; international dollars  Billions   \n",
       "73  Purchasing power parity; international dollars  Billions   \n",
       "74  Purchasing power parity; international dollars  Billions   \n",
       "75  Purchasing power parity; international dollars  Billions   \n",
       "\n",
       "                        Country/Series-specific Notes       2000       2001  \\\n",
       "0   See notes for:  Gross domestic product, curren...        NaN        NaN   \n",
       "1   See notes for:  Gross domestic product, curren...     8028.0     8986.0   \n",
       "2   See notes for:  Gross domestic product, curren...    28468.0    30997.0   \n",
       "3   See notes for:  Gross domestic product, curren...    28006.0    29350.0   \n",
       "4   See notes for:  Gross domestic product, curren...   712630.0   746107.0   \n",
       "..                                                ...        ...        ...   \n",
       "71  See notes for:  Gross domestic product, curren...     267984     282373   \n",
       "72  See notes for:  Gross domestic product, curren...      84808      85029   \n",
       "73  See notes for:  Gross domestic product, curren...     459271     485786   \n",
       "74  See notes for:  Gross domestic product, curren...     197660     216045   \n",
       "75  See notes for:  Gross domestic product, curren...  3,476.779  3,568.789   \n",
       "\n",
       "         2002       2003       2004  ...       2017       2018       2019  \\\n",
       "0       19663      21794      22530  ...      74712      77332      81706   \n",
       "1       10477      12186      13824  ...      35677      38401      42025   \n",
       "2       34450      38716      43436  ...     139153     144433     150500   \n",
       "3       30804      33390      36682  ...      71282      74454      77344   \n",
       "4      818915     907227     972023  ...  1,281.375  1,286.637  1,268.064   \n",
       "..        ...        ...        ...  ...        ...        ...        ...   \n",
       "71     297418     318718     348788  ...     854095     929064  1,002.458   \n",
       "72      89568      96762     104774  ...     291299     304856     309290   \n",
       "73     523671     572401     624760  ...  1,205.839  1,285.550  1,334.769   \n",
       "74     234937     257163     284648  ...     851064     935547  1,021.256   \n",
       "75  3,625.770  3,754.110  3,939.329  ...  5,248.419  5,403.192  5,471.792   \n",
       "\n",
       "         2020       2021       2022       2023       2024       2025  \\\n",
       "0       80839      72251      72512        NaN        NaN        NaN   \n",
       "1       39535      43698      52670      59347      64432      69011   \n",
       "2      146084     161363     180629     189273     199195     207404   \n",
       "3       74725      80176      90019      95742     101549     106608   \n",
       "4   1,327.597  1,454.001  1,615.152  1,752.856  1,854.845  1,945.140   \n",
       "..        ...        ...        ...        ...        ...        ...   \n",
       "71     919019  1,016.084  1,169.961  1,280.127  1,391.800  1,503.837   \n",
       "72     298882     323564     319248        NaN        NaN        NaN   \n",
       "73  1,270.575  1,349.416  1,480.690  1,563.385  1,644.322  1,721.857   \n",
       "74  1,064.410  1,141.622  1,321.271  1,438.541  1,558.898  1,689.514   \n",
       "75  5,314.130  5,700.028  6,159.757  6,507.063  6,720.962  6,908.425   \n",
       "\n",
       "   Estimates Start After  \n",
       "0                   2023  \n",
       "1                   2022  \n",
       "2                   2022  \n",
       "3                   2022  \n",
       "4                   2023  \n",
       "..                   ...  \n",
       "71                  2023  \n",
       "72                  2021  \n",
       "73                  2023  \n",
       "74                  2023  \n",
       "75                  2023  \n",
       "\n",
       "[76 rows x 32 columns]"
      ],
      "text/html": [
       "<div>\n",
       "<style scoped>\n",
       "    .dataframe tbody tr th:only-of-type {\n",
       "        vertical-align: middle;\n",
       "    }\n",
       "\n",
       "    .dataframe tbody tr th {\n",
       "        vertical-align: top;\n",
       "    }\n",
       "\n",
       "    .dataframe thead th {\n",
       "        text-align: right;\n",
       "    }\n",
       "</style>\n",
       "<table border=\"1\" class=\"dataframe\">\n",
       "  <thead>\n",
       "    <tr style=\"text-align: right;\">\n",
       "      <th></th>\n",
       "      <th>Country</th>\n",
       "      <th>Subject Descriptor</th>\n",
       "      <th>Units</th>\n",
       "      <th>Scale</th>\n",
       "      <th>Country/Series-specific Notes</th>\n",
       "      <th>2000</th>\n",
       "      <th>2001</th>\n",
       "      <th>2002</th>\n",
       "      <th>2003</th>\n",
       "      <th>2004</th>\n",
       "      <th>...</th>\n",
       "      <th>2017</th>\n",
       "      <th>2018</th>\n",
       "      <th>2019</th>\n",
       "      <th>2020</th>\n",
       "      <th>2021</th>\n",
       "      <th>2022</th>\n",
       "      <th>2023</th>\n",
       "      <th>2024</th>\n",
       "      <th>2025</th>\n",
       "      <th>Estimates Start After</th>\n",
       "    </tr>\n",
       "  </thead>\n",
       "  <tbody>\n",
       "    <tr>\n",
       "      <th>0</th>\n",
       "      <td>Afghanistan</td>\n",
       "      <td>Gross domestic product, current prices</td>\n",
       "      <td>Purchasing power parity; international dollars</td>\n",
       "      <td>Billions</td>\n",
       "      <td>See notes for:  Gross domestic product, curren...</td>\n",
       "      <td>NaN</td>\n",
       "      <td>NaN</td>\n",
       "      <td>19663</td>\n",
       "      <td>21794</td>\n",
       "      <td>22530</td>\n",
       "      <td>...</td>\n",
       "      <td>74712</td>\n",
       "      <td>77332</td>\n",
       "      <td>81706</td>\n",
       "      <td>80839</td>\n",
       "      <td>72251</td>\n",
       "      <td>72512</td>\n",
       "      <td>NaN</td>\n",
       "      <td>NaN</td>\n",
       "      <td>NaN</td>\n",
       "      <td>2023</td>\n",
       "    </tr>\n",
       "    <tr>\n",
       "      <th>1</th>\n",
       "      <td>Armenia</td>\n",
       "      <td>Gross domestic product, current prices</td>\n",
       "      <td>Purchasing power parity; international dollars</td>\n",
       "      <td>Billions</td>\n",
       "      <td>See notes for:  Gross domestic product, curren...</td>\n",
       "      <td>8028.0</td>\n",
       "      <td>8986.0</td>\n",
       "      <td>10477</td>\n",
       "      <td>12186</td>\n",
       "      <td>13824</td>\n",
       "      <td>...</td>\n",
       "      <td>35677</td>\n",
       "      <td>38401</td>\n",
       "      <td>42025</td>\n",
       "      <td>39535</td>\n",
       "      <td>43698</td>\n",
       "      <td>52670</td>\n",
       "      <td>59347</td>\n",
       "      <td>64432</td>\n",
       "      <td>69011</td>\n",
       "      <td>2022</td>\n",
       "    </tr>\n",
       "    <tr>\n",
       "      <th>2</th>\n",
       "      <td>Azerbaijan</td>\n",
       "      <td>Gross domestic product, current prices</td>\n",
       "      <td>Purchasing power parity; international dollars</td>\n",
       "      <td>Billions</td>\n",
       "      <td>See notes for:  Gross domestic product, curren...</td>\n",
       "      <td>28468.0</td>\n",
       "      <td>30997.0</td>\n",
       "      <td>34450</td>\n",
       "      <td>38716</td>\n",
       "      <td>43436</td>\n",
       "      <td>...</td>\n",
       "      <td>139153</td>\n",
       "      <td>144433</td>\n",
       "      <td>150500</td>\n",
       "      <td>146084</td>\n",
       "      <td>161363</td>\n",
       "      <td>180629</td>\n",
       "      <td>189273</td>\n",
       "      <td>199195</td>\n",
       "      <td>207404</td>\n",
       "      <td>2022</td>\n",
       "    </tr>\n",
       "    <tr>\n",
       "      <th>3</th>\n",
       "      <td>Bahrain</td>\n",
       "      <td>Gross domestic product, current prices</td>\n",
       "      <td>Purchasing power parity; international dollars</td>\n",
       "      <td>Billions</td>\n",
       "      <td>See notes for:  Gross domestic product, curren...</td>\n",
       "      <td>28006.0</td>\n",
       "      <td>29350.0</td>\n",
       "      <td>30804</td>\n",
       "      <td>33390</td>\n",
       "      <td>36682</td>\n",
       "      <td>...</td>\n",
       "      <td>71282</td>\n",
       "      <td>74454</td>\n",
       "      <td>77344</td>\n",
       "      <td>74725</td>\n",
       "      <td>80176</td>\n",
       "      <td>90019</td>\n",
       "      <td>95742</td>\n",
       "      <td>101549</td>\n",
       "      <td>106608</td>\n",
       "      <td>2022</td>\n",
       "    </tr>\n",
       "    <tr>\n",
       "      <th>4</th>\n",
       "      <td>Islamic Republic of Iran</td>\n",
       "      <td>Gross domestic product, current prices</td>\n",
       "      <td>Purchasing power parity; international dollars</td>\n",
       "      <td>Billions</td>\n",
       "      <td>See notes for:  Gross domestic product, curren...</td>\n",
       "      <td>712630.0</td>\n",
       "      <td>746107.0</td>\n",
       "      <td>818915</td>\n",
       "      <td>907227</td>\n",
       "      <td>972023</td>\n",
       "      <td>...</td>\n",
       "      <td>1,281.375</td>\n",
       "      <td>1,286.637</td>\n",
       "      <td>1,268.064</td>\n",
       "      <td>1,327.597</td>\n",
       "      <td>1,454.001</td>\n",
       "      <td>1,615.152</td>\n",
       "      <td>1,752.856</td>\n",
       "      <td>1,854.845</td>\n",
       "      <td>1,945.140</td>\n",
       "      <td>2023</td>\n",
       "    </tr>\n",
       "    <tr>\n",
       "      <th>...</th>\n",
       "      <td>...</td>\n",
       "      <td>...</td>\n",
       "      <td>...</td>\n",
       "      <td>...</td>\n",
       "      <td>...</td>\n",
       "      <td>...</td>\n",
       "      <td>...</td>\n",
       "      <td>...</td>\n",
       "      <td>...</td>\n",
       "      <td>...</td>\n",
       "      <td>...</td>\n",
       "      <td>...</td>\n",
       "      <td>...</td>\n",
       "      <td>...</td>\n",
       "      <td>...</td>\n",
       "      <td>...</td>\n",
       "      <td>...</td>\n",
       "      <td>...</td>\n",
       "      <td>...</td>\n",
       "      <td>...</td>\n",
       "      <td>...</td>\n",
       "    </tr>\n",
       "    <tr>\n",
       "      <th>71</th>\n",
       "      <td>Philippines</td>\n",
       "      <td>Gross domestic product, current prices</td>\n",
       "      <td>Purchasing power parity; international dollars</td>\n",
       "      <td>Billions</td>\n",
       "      <td>See notes for:  Gross domestic product, curren...</td>\n",
       "      <td>267984</td>\n",
       "      <td>282373</td>\n",
       "      <td>297418</td>\n",
       "      <td>318718</td>\n",
       "      <td>348788</td>\n",
       "      <td>...</td>\n",
       "      <td>854095</td>\n",
       "      <td>929064</td>\n",
       "      <td>1,002.458</td>\n",
       "      <td>919019</td>\n",
       "      <td>1,016.084</td>\n",
       "      <td>1,169.961</td>\n",
       "      <td>1,280.127</td>\n",
       "      <td>1,391.800</td>\n",
       "      <td>1,503.837</td>\n",
       "      <td>2023</td>\n",
       "    </tr>\n",
       "    <tr>\n",
       "      <th>72</th>\n",
       "      <td>Sri Lanka</td>\n",
       "      <td>Gross domestic product, current prices</td>\n",
       "      <td>Purchasing power parity; international dollars</td>\n",
       "      <td>Billions</td>\n",
       "      <td>See notes for:  Gross domestic product, curren...</td>\n",
       "      <td>84808</td>\n",
       "      <td>85029</td>\n",
       "      <td>89568</td>\n",
       "      <td>96762</td>\n",
       "      <td>104774</td>\n",
       "      <td>...</td>\n",
       "      <td>291299</td>\n",
       "      <td>304856</td>\n",
       "      <td>309290</td>\n",
       "      <td>298882</td>\n",
       "      <td>323564</td>\n",
       "      <td>319248</td>\n",
       "      <td>NaN</td>\n",
       "      <td>NaN</td>\n",
       "      <td>NaN</td>\n",
       "      <td>2021</td>\n",
       "    </tr>\n",
       "    <tr>\n",
       "      <th>73</th>\n",
       "      <td>Thailand</td>\n",
       "      <td>Gross domestic product, current prices</td>\n",
       "      <td>Purchasing power parity; international dollars</td>\n",
       "      <td>Billions</td>\n",
       "      <td>See notes for:  Gross domestic product, curren...</td>\n",
       "      <td>459271</td>\n",
       "      <td>485786</td>\n",
       "      <td>523671</td>\n",
       "      <td>572401</td>\n",
       "      <td>624760</td>\n",
       "      <td>...</td>\n",
       "      <td>1,205.839</td>\n",
       "      <td>1,285.550</td>\n",
       "      <td>1,334.769</td>\n",
       "      <td>1,270.575</td>\n",
       "      <td>1,349.416</td>\n",
       "      <td>1,480.690</td>\n",
       "      <td>1,563.385</td>\n",
       "      <td>1,644.322</td>\n",
       "      <td>1,721.857</td>\n",
       "      <td>2023</td>\n",
       "    </tr>\n",
       "    <tr>\n",
       "      <th>74</th>\n",
       "      <td>Vietnam</td>\n",
       "      <td>Gross domestic product, current prices</td>\n",
       "      <td>Purchasing power parity; international dollars</td>\n",
       "      <td>Billions</td>\n",
       "      <td>See notes for:  Gross domestic product, curren...</td>\n",
       "      <td>197660</td>\n",
       "      <td>216045</td>\n",
       "      <td>234937</td>\n",
       "      <td>257163</td>\n",
       "      <td>284648</td>\n",
       "      <td>...</td>\n",
       "      <td>851064</td>\n",
       "      <td>935547</td>\n",
       "      <td>1,021.256</td>\n",
       "      <td>1,064.410</td>\n",
       "      <td>1,141.622</td>\n",
       "      <td>1,321.271</td>\n",
       "      <td>1,438.541</td>\n",
       "      <td>1,558.898</td>\n",
       "      <td>1,689.514</td>\n",
       "      <td>2023</td>\n",
       "    </tr>\n",
       "    <tr>\n",
       "      <th>75</th>\n",
       "      <td>Japan</td>\n",
       "      <td>Gross domestic product, current prices</td>\n",
       "      <td>Purchasing power parity; international dollars</td>\n",
       "      <td>Billions</td>\n",
       "      <td>See notes for:  Gross domestic product, curren...</td>\n",
       "      <td>3,476.779</td>\n",
       "      <td>3,568.789</td>\n",
       "      <td>3,625.770</td>\n",
       "      <td>3,754.110</td>\n",
       "      <td>3,939.329</td>\n",
       "      <td>...</td>\n",
       "      <td>5,248.419</td>\n",
       "      <td>5,403.192</td>\n",
       "      <td>5,471.792</td>\n",
       "      <td>5,314.130</td>\n",
       "      <td>5,700.028</td>\n",
       "      <td>6,159.757</td>\n",
       "      <td>6,507.063</td>\n",
       "      <td>6,720.962</td>\n",
       "      <td>6,908.425</td>\n",
       "      <td>2023</td>\n",
       "    </tr>\n",
       "  </tbody>\n",
       "</table>\n",
       "<p>76 rows × 32 columns</p>\n",
       "</div>"
      ]
     },
     "execution_count": 15,
     "metadata": {},
     "output_type": "execute_result"
    }
   ],
   "execution_count": 15
  },
  {
   "metadata": {
    "ExecuteTime": {
     "end_time": "2024-09-29T13:38:31.915004Z",
     "start_time": "2024-09-29T13:38:28.364028Z"
    }
   },
   "cell_type": "code",
   "source": [
    "combined_file_path = \"data/WEO_Data_complete.xlsx\"\n",
    "combined_df.to_excel(combined_file_path, index=False)"
   ],
   "id": "31e0eaef2ef3c158",
   "outputs": [
    {
     "ename": "PermissionError",
     "evalue": "[Errno 13] Permission denied: 'data/WEO_Data_complete.xlsx'",
     "output_type": "error",
     "traceback": [
      "\u001B[1;31m---------------------------------------------------------------------------\u001B[0m",
      "\u001B[1;31mPermissionError\u001B[0m                           Traceback (most recent call last)",
      "Cell \u001B[1;32mIn[16], line 2\u001B[0m\n\u001B[0;32m      1\u001B[0m combined_file_path \u001B[38;5;241m=\u001B[39m \u001B[38;5;124m\"\u001B[39m\u001B[38;5;124mdata/WEO_Data_complete.xlsx\u001B[39m\u001B[38;5;124m\"\u001B[39m\n\u001B[1;32m----> 2\u001B[0m combined_df\u001B[38;5;241m.\u001B[39mto_excel(combined_file_path, index\u001B[38;5;241m=\u001B[39m\u001B[38;5;28;01mFalse\u001B[39;00m)\n",
      "File \u001B[1;32m~\\anaconda3\\envs\\SDG_buas\\Lib\\site-packages\\pandas\\util\\_decorators.py:333\u001B[0m, in \u001B[0;36mdeprecate_nonkeyword_arguments.<locals>.decorate.<locals>.wrapper\u001B[1;34m(*args, **kwargs)\u001B[0m\n\u001B[0;32m    327\u001B[0m \u001B[38;5;28;01mif\u001B[39;00m \u001B[38;5;28mlen\u001B[39m(args) \u001B[38;5;241m>\u001B[39m num_allow_args:\n\u001B[0;32m    328\u001B[0m     warnings\u001B[38;5;241m.\u001B[39mwarn(\n\u001B[0;32m    329\u001B[0m         msg\u001B[38;5;241m.\u001B[39mformat(arguments\u001B[38;5;241m=\u001B[39m_format_argument_list(allow_args)),\n\u001B[0;32m    330\u001B[0m         \u001B[38;5;167;01mFutureWarning\u001B[39;00m,\n\u001B[0;32m    331\u001B[0m         stacklevel\u001B[38;5;241m=\u001B[39mfind_stack_level(),\n\u001B[0;32m    332\u001B[0m     )\n\u001B[1;32m--> 333\u001B[0m \u001B[38;5;28;01mreturn\u001B[39;00m func(\u001B[38;5;241m*\u001B[39margs, \u001B[38;5;241m*\u001B[39m\u001B[38;5;241m*\u001B[39mkwargs)\n",
      "File \u001B[1;32m~\\anaconda3\\envs\\SDG_buas\\Lib\\site-packages\\pandas\\core\\generic.py:2417\u001B[0m, in \u001B[0;36mNDFrame.to_excel\u001B[1;34m(self, excel_writer, sheet_name, na_rep, float_format, columns, header, index, index_label, startrow, startcol, engine, merge_cells, inf_rep, freeze_panes, storage_options, engine_kwargs)\u001B[0m\n\u001B[0;32m   2404\u001B[0m \u001B[38;5;28;01mfrom\u001B[39;00m \u001B[38;5;21;01mpandas\u001B[39;00m\u001B[38;5;21;01m.\u001B[39;00m\u001B[38;5;21;01mio\u001B[39;00m\u001B[38;5;21;01m.\u001B[39;00m\u001B[38;5;21;01mformats\u001B[39;00m\u001B[38;5;21;01m.\u001B[39;00m\u001B[38;5;21;01mexcel\u001B[39;00m \u001B[38;5;28;01mimport\u001B[39;00m ExcelFormatter\n\u001B[0;32m   2406\u001B[0m formatter \u001B[38;5;241m=\u001B[39m ExcelFormatter(\n\u001B[0;32m   2407\u001B[0m     df,\n\u001B[0;32m   2408\u001B[0m     na_rep\u001B[38;5;241m=\u001B[39mna_rep,\n\u001B[1;32m   (...)\u001B[0m\n\u001B[0;32m   2415\u001B[0m     inf_rep\u001B[38;5;241m=\u001B[39minf_rep,\n\u001B[0;32m   2416\u001B[0m )\n\u001B[1;32m-> 2417\u001B[0m formatter\u001B[38;5;241m.\u001B[39mwrite(\n\u001B[0;32m   2418\u001B[0m     excel_writer,\n\u001B[0;32m   2419\u001B[0m     sheet_name\u001B[38;5;241m=\u001B[39msheet_name,\n\u001B[0;32m   2420\u001B[0m     startrow\u001B[38;5;241m=\u001B[39mstartrow,\n\u001B[0;32m   2421\u001B[0m     startcol\u001B[38;5;241m=\u001B[39mstartcol,\n\u001B[0;32m   2422\u001B[0m     freeze_panes\u001B[38;5;241m=\u001B[39mfreeze_panes,\n\u001B[0;32m   2423\u001B[0m     engine\u001B[38;5;241m=\u001B[39mengine,\n\u001B[0;32m   2424\u001B[0m     storage_options\u001B[38;5;241m=\u001B[39mstorage_options,\n\u001B[0;32m   2425\u001B[0m     engine_kwargs\u001B[38;5;241m=\u001B[39mengine_kwargs,\n\u001B[0;32m   2426\u001B[0m )\n",
      "File \u001B[1;32m~\\anaconda3\\envs\\SDG_buas\\Lib\\site-packages\\pandas\\io\\formats\\excel.py:943\u001B[0m, in \u001B[0;36mExcelFormatter.write\u001B[1;34m(self, writer, sheet_name, startrow, startcol, freeze_panes, engine, storage_options, engine_kwargs)\u001B[0m\n\u001B[0;32m    941\u001B[0m     need_save \u001B[38;5;241m=\u001B[39m \u001B[38;5;28;01mFalse\u001B[39;00m\n\u001B[0;32m    942\u001B[0m \u001B[38;5;28;01melse\u001B[39;00m:\n\u001B[1;32m--> 943\u001B[0m     writer \u001B[38;5;241m=\u001B[39m ExcelWriter(\n\u001B[0;32m    944\u001B[0m         writer,\n\u001B[0;32m    945\u001B[0m         engine\u001B[38;5;241m=\u001B[39mengine,\n\u001B[0;32m    946\u001B[0m         storage_options\u001B[38;5;241m=\u001B[39mstorage_options,\n\u001B[0;32m    947\u001B[0m         engine_kwargs\u001B[38;5;241m=\u001B[39mengine_kwargs,\n\u001B[0;32m    948\u001B[0m     )\n\u001B[0;32m    949\u001B[0m     need_save \u001B[38;5;241m=\u001B[39m \u001B[38;5;28;01mTrue\u001B[39;00m\n\u001B[0;32m    951\u001B[0m \u001B[38;5;28;01mtry\u001B[39;00m:\n",
      "File \u001B[1;32m~\\anaconda3\\envs\\SDG_buas\\Lib\\site-packages\\pandas\\io\\excel\\_openpyxl.py:61\u001B[0m, in \u001B[0;36mOpenpyxlWriter.__init__\u001B[1;34m(self, path, engine, date_format, datetime_format, mode, storage_options, if_sheet_exists, engine_kwargs, **kwargs)\u001B[0m\n\u001B[0;32m     57\u001B[0m \u001B[38;5;28;01mfrom\u001B[39;00m \u001B[38;5;21;01mopenpyxl\u001B[39;00m\u001B[38;5;21;01m.\u001B[39;00m\u001B[38;5;21;01mworkbook\u001B[39;00m \u001B[38;5;28;01mimport\u001B[39;00m Workbook\n\u001B[0;32m     59\u001B[0m engine_kwargs \u001B[38;5;241m=\u001B[39m combine_kwargs(engine_kwargs, kwargs)\n\u001B[1;32m---> 61\u001B[0m \u001B[38;5;28msuper\u001B[39m()\u001B[38;5;241m.\u001B[39m\u001B[38;5;21m__init__\u001B[39m(\n\u001B[0;32m     62\u001B[0m     path,\n\u001B[0;32m     63\u001B[0m     mode\u001B[38;5;241m=\u001B[39mmode,\n\u001B[0;32m     64\u001B[0m     storage_options\u001B[38;5;241m=\u001B[39mstorage_options,\n\u001B[0;32m     65\u001B[0m     if_sheet_exists\u001B[38;5;241m=\u001B[39mif_sheet_exists,\n\u001B[0;32m     66\u001B[0m     engine_kwargs\u001B[38;5;241m=\u001B[39mengine_kwargs,\n\u001B[0;32m     67\u001B[0m )\n\u001B[0;32m     69\u001B[0m \u001B[38;5;66;03m# ExcelWriter replaced \"a\" by \"r+\" to allow us to first read the excel file from\u001B[39;00m\n\u001B[0;32m     70\u001B[0m \u001B[38;5;66;03m# the file and later write to it\u001B[39;00m\n\u001B[0;32m     71\u001B[0m \u001B[38;5;28;01mif\u001B[39;00m \u001B[38;5;124m\"\u001B[39m\u001B[38;5;124mr+\u001B[39m\u001B[38;5;124m\"\u001B[39m \u001B[38;5;129;01min\u001B[39;00m \u001B[38;5;28mself\u001B[39m\u001B[38;5;241m.\u001B[39m_mode:  \u001B[38;5;66;03m# Load from existing workbook\u001B[39;00m\n",
      "File \u001B[1;32m~\\anaconda3\\envs\\SDG_buas\\Lib\\site-packages\\pandas\\io\\excel\\_base.py:1246\u001B[0m, in \u001B[0;36mExcelWriter.__init__\u001B[1;34m(self, path, engine, date_format, datetime_format, mode, storage_options, if_sheet_exists, engine_kwargs)\u001B[0m\n\u001B[0;32m   1242\u001B[0m \u001B[38;5;28mself\u001B[39m\u001B[38;5;241m.\u001B[39m_handles \u001B[38;5;241m=\u001B[39m IOHandles(\n\u001B[0;32m   1243\u001B[0m     cast(IO[\u001B[38;5;28mbytes\u001B[39m], path), compression\u001B[38;5;241m=\u001B[39m{\u001B[38;5;124m\"\u001B[39m\u001B[38;5;124mcompression\u001B[39m\u001B[38;5;124m\"\u001B[39m: \u001B[38;5;28;01mNone\u001B[39;00m}\n\u001B[0;32m   1244\u001B[0m )\n\u001B[0;32m   1245\u001B[0m \u001B[38;5;28;01mif\u001B[39;00m \u001B[38;5;129;01mnot\u001B[39;00m \u001B[38;5;28misinstance\u001B[39m(path, ExcelWriter):\n\u001B[1;32m-> 1246\u001B[0m     \u001B[38;5;28mself\u001B[39m\u001B[38;5;241m.\u001B[39m_handles \u001B[38;5;241m=\u001B[39m get_handle(\n\u001B[0;32m   1247\u001B[0m         path, mode, storage_options\u001B[38;5;241m=\u001B[39mstorage_options, is_text\u001B[38;5;241m=\u001B[39m\u001B[38;5;28;01mFalse\u001B[39;00m\n\u001B[0;32m   1248\u001B[0m     )\n\u001B[0;32m   1249\u001B[0m \u001B[38;5;28mself\u001B[39m\u001B[38;5;241m.\u001B[39m_cur_sheet \u001B[38;5;241m=\u001B[39m \u001B[38;5;28;01mNone\u001B[39;00m\n\u001B[0;32m   1251\u001B[0m \u001B[38;5;28;01mif\u001B[39;00m date_format \u001B[38;5;129;01mis\u001B[39;00m \u001B[38;5;28;01mNone\u001B[39;00m:\n",
      "File \u001B[1;32m~\\anaconda3\\envs\\SDG_buas\\Lib\\site-packages\\pandas\\io\\common.py:882\u001B[0m, in \u001B[0;36mget_handle\u001B[1;34m(path_or_buf, mode, encoding, compression, memory_map, is_text, errors, storage_options)\u001B[0m\n\u001B[0;32m    873\u001B[0m         handle \u001B[38;5;241m=\u001B[39m \u001B[38;5;28mopen\u001B[39m(\n\u001B[0;32m    874\u001B[0m             handle,\n\u001B[0;32m    875\u001B[0m             ioargs\u001B[38;5;241m.\u001B[39mmode,\n\u001B[1;32m   (...)\u001B[0m\n\u001B[0;32m    878\u001B[0m             newline\u001B[38;5;241m=\u001B[39m\u001B[38;5;124m\"\u001B[39m\u001B[38;5;124m\"\u001B[39m,\n\u001B[0;32m    879\u001B[0m         )\n\u001B[0;32m    880\u001B[0m     \u001B[38;5;28;01melse\u001B[39;00m:\n\u001B[0;32m    881\u001B[0m         \u001B[38;5;66;03m# Binary mode\u001B[39;00m\n\u001B[1;32m--> 882\u001B[0m         handle \u001B[38;5;241m=\u001B[39m \u001B[38;5;28mopen\u001B[39m(handle, ioargs\u001B[38;5;241m.\u001B[39mmode)\n\u001B[0;32m    883\u001B[0m     handles\u001B[38;5;241m.\u001B[39mappend(handle)\n\u001B[0;32m    885\u001B[0m \u001B[38;5;66;03m# Convert BytesIO or file objects passed with an encoding\u001B[39;00m\n",
      "\u001B[1;31mPermissionError\u001B[0m: [Errno 13] Permission denied: 'data/WEO_Data_complete.xlsx'"
     ]
    }
   ],
   "execution_count": 16
  },
  {
   "metadata": {},
   "cell_type": "markdown",
   "source": "## Get countries from both files",
   "id": "99d51a7ac05c16d2"
  },
  {
   "metadata": {
    "ExecuteTime": {
     "end_time": "2024-09-29T16:46:53.659072Z",
     "start_time": "2024-09-29T16:46:53.257006Z"
    }
   },
   "cell_type": "code",
   "source": [
    "goal9_df = pd.read_excel(\"data/goal_9.xlsx\", sheet_name=\"Goal9 Filtered Asia\")\n",
    "combined_df = pd.read_excel(combined_file_path)"
   ],
   "id": "a04bb21c33faacdb",
   "outputs": [],
   "execution_count": 19
  },
  {
   "metadata": {
    "ExecuteTime": {
     "end_time": "2024-09-29T16:51:11.808802Z",
     "start_time": "2024-09-29T16:51:11.802796Z"
    }
   },
   "cell_type": "code",
   "source": [
    "countries_from_goal9 = goal9_df[\"GeoAreaName\"].unique()\n",
    "countries_from_goal9"
   ],
   "id": "16691fdead3a3eb6",
   "outputs": [
    {
     "data": {
      "text/plain": [
       "array(['Afghanistan', 'Azerbaijan', 'Bahrain', 'Bangladesh', 'Armenia',\n",
       "       'Bhutan', 'Brunei Darussalam', 'Myanmar', 'Cambodia', 'Sri Lanka',\n",
       "       'China', 'Cyprus', 'Georgia', 'India', 'Indonesia',\n",
       "       'Iran (Islamic Republic of)', 'Iraq', 'Israel', 'Japan',\n",
       "       'Kazakhstan', 'Jordan', \"Democratic People's Republic of Korea\",\n",
       "       'Republic of Korea', 'Kuwait', 'Kyrgyzstan',\n",
       "       \"Lao People's Democratic Republic\", 'Lebanon', 'Malaysia',\n",
       "       'Maldives', 'Mongolia', 'Oman', 'Nepal', 'Pakistan', 'Philippines',\n",
       "       'Qatar', 'Saudi Arabia', 'Singapore', 'Viet Nam',\n",
       "       'Syrian Arab Republic', 'Tajikistan', 'Thailand',\n",
       "       'United Arab Emirates', 'Turkmenistan', 'Uzbekistan', 'Yemen'],\n",
       "      dtype=object)"
      ]
     },
     "execution_count": 21,
     "metadata": {},
     "output_type": "execute_result"
    }
   ],
   "execution_count": 21
  },
  {
   "metadata": {
    "ExecuteTime": {
     "end_time": "2024-09-29T16:52:00.635778Z",
     "start_time": "2024-09-29T16:52:00.629506Z"
    }
   },
   "cell_type": "code",
   "source": [
    "countries_from_combined = combined_df[\"Country\"].unique()\n",
    "countries_from_combined"
   ],
   "id": "ddc0c9fd6d269ebd",
   "outputs": [
    {
     "data": {
      "text/plain": [
       "array(['Afghanistan', 'Armenia', 'Azerbaijan', 'Bahrain',\n",
       "       'Islamic Republic of Iran', 'Iraq', 'Jordan', 'Kazakhstan',\n",
       "       'Kuwait', 'Kyrgyz Republic', 'Lebanon', 'Oman', 'Pakistan',\n",
       "       'Qatar', 'Saudi Arabia', 'Syria', 'Tajikistan', 'Turkmenistan',\n",
       "       'United Arab Emirates', 'Uzbekistan', 'Yemen', 'Cyprus',\n",
       "       'Bangladesh', 'Bhutan', 'Brunei Darussalam', 'Cambodia', 'China',\n",
       "       'India', 'Indonesia', 'Lao P.D.R.', 'Malaysia', 'Maldives',\n",
       "       'Nepal', 'Philippines', 'Sri Lanka', 'Thailand', 'Vietnam',\n",
       "       'Japan'], dtype=object)"
      ]
     },
     "execution_count": 22,
     "metadata": {},
     "output_type": "execute_result"
    }
   ],
   "execution_count": 22
  },
  {
   "metadata": {
    "ExecuteTime": {
     "end_time": "2024-09-29T16:52:24.123102Z",
     "start_time": "2024-09-29T16:52:24.116339Z"
    }
   },
   "cell_type": "code",
   "source": "len(countries_from_goal9), len(countries_from_combined)",
   "id": "d5c58bb3e0efe38b",
   "outputs": [
    {
     "data": {
      "text/plain": [
       "(45, 38)"
      ]
     },
     "execution_count": 23,
     "metadata": {},
     "output_type": "execute_result"
    }
   ],
   "execution_count": 23
  },
  {
   "metadata": {
    "ExecuteTime": {
     "end_time": "2024-09-29T16:52:32.637576Z",
     "start_time": "2024-09-29T16:52:32.633730Z"
    }
   },
   "cell_type": "code",
   "source": "countries_from_goal9 = set(countries_from_goal9)",
   "id": "5c7eccd6634f820f",
   "outputs": [],
   "execution_count": 24
  },
  {
   "metadata": {
    "ExecuteTime": {
     "end_time": "2024-09-29T17:01:35.717242Z",
     "start_time": "2024-09-29T17:01:35.711237Z"
    }
   },
   "cell_type": "code",
   "source": "countries_from_combined = set(countries_from_combined)",
   "id": "5bfb86cad0d95bb5",
   "outputs": [],
   "execution_count": 29
  },
  {
   "metadata": {
    "ExecuteTime": {
     "end_time": "2024-09-29T17:01:49.778101Z",
     "start_time": "2024-09-29T17:01:49.771135Z"
    }
   },
   "cell_type": "code",
   "source": [
    "countries_only_in_goal9 = countries_from_goal9 - countries_from_combined\n",
    "countries_only_in_goal9"
   ],
   "id": "1477f264d2462ef",
   "outputs": [
    {
     "data": {
      "text/plain": [
       "{\"Democratic People's Republic of Korea\",\n",
       " 'Georgia',\n",
       " 'Iran (Islamic Republic of)',\n",
       " 'Israel',\n",
       " 'Kyrgyzstan',\n",
       " \"Lao People's Democratic Republic\",\n",
       " 'Mongolia',\n",
       " 'Myanmar',\n",
       " 'Republic of Korea',\n",
       " 'Singapore',\n",
       " 'Syrian Arab Republic',\n",
       " 'Viet Nam'}"
      ]
     },
     "execution_count": 30,
     "metadata": {},
     "output_type": "execute_result"
    }
   ],
   "execution_count": 30
  },
  {
   "metadata": {
    "ExecuteTime": {
     "end_time": "2024-09-29T17:01:53.956456Z",
     "start_time": "2024-09-29T17:01:53.949450Z"
    }
   },
   "cell_type": "code",
   "source": [
    "countries_only_in_combined = countries_from_combined - countries_from_goal9\n",
    "countries_only_in_combined"
   ],
   "id": "97600e0526592ce9",
   "outputs": [
    {
     "data": {
      "text/plain": [
       "{'Islamic Republic of Iran',\n",
       " 'Kyrgyz Republic',\n",
       " 'Lao P.D.R.',\n",
       " 'Syria',\n",
       " 'Vietnam'}"
      ]
     },
     "execution_count": 31,
     "metadata": {},
     "output_type": "execute_result"
    }
   ],
   "execution_count": 31
  },
  {
   "metadata": {},
   "cell_type": "markdown",
   "source": "## Change country names in goal9_df",
   "id": "ba5091c1f39eaf32"
  },
  {
   "metadata": {
    "ExecuteTime": {
     "end_time": "2024-09-29T17:07:58.593212Z",
     "start_time": "2024-09-29T17:07:58.588456Z"
    }
   },
   "cell_type": "code",
   "source": [
    "countries_to_change = {\n",
    "    \"Iran (Islamic Republic of)\": \"Islamic Republic of Iran\",\n",
    "    \"Kyrgyzstan\": \"Kyrgyz Republic\",\n",
    "    \"Lao People's Democratic Republic\": \"Lao P.D.R.\",\n",
    "    \"Syrian Arab Republic\": \"Syria\",\n",
    "    \"Viet Nam\": \"Vietnam\",\n",
    "}"
   ],
   "id": "e2e5bb52aeb4d6e8",
   "outputs": [],
   "execution_count": 32
  },
  {
   "metadata": {
    "ExecuteTime": {
     "end_time": "2024-09-29T17:08:04.711908Z",
     "start_time": "2024-09-29T17:08:04.691278Z"
    }
   },
   "cell_type": "code",
   "source": "goal9_df[\"GeoAreaName\"] = goal9_df[\"GeoAreaName\"].replace(countries_to_change)",
   "id": "f724342119a003a7",
   "outputs": [],
   "execution_count": 33
  },
  {
   "metadata": {},
   "cell_type": "markdown",
   "source": "## Get data about countries available in both files",
   "id": "7cb9aa7ecf37858c"
  },
  {
   "metadata": {
    "ExecuteTime": {
     "end_time": "2024-09-29T17:08:06.404295Z",
     "start_time": "2024-09-29T17:08:06.397895Z"
    }
   },
   "cell_type": "code",
   "source": "goal9_df[\"GeoAreaName\"].unique()",
   "id": "10efe40d3a5f8bde",
   "outputs": [
    {
     "data": {
      "text/plain": [
       "array(['Afghanistan', 'Azerbaijan', 'Bahrain', 'Bangladesh', 'Armenia',\n",
       "       'Bhutan', 'Brunei Darussalam', 'Myanmar', 'Cambodia', 'Sri Lanka',\n",
       "       'China', 'Cyprus', 'Georgia', 'India', 'Indonesia',\n",
       "       'Islamic Republic of Iran', 'Iraq', 'Israel', 'Japan',\n",
       "       'Kazakhstan', 'Jordan', \"Democratic People's Republic of Korea\",\n",
       "       'Republic of Korea', 'Kuwait', 'Kyrgyz Republic', 'Lao P.D.R.',\n",
       "       'Lebanon', 'Malaysia', 'Maldives', 'Mongolia', 'Oman', 'Nepal',\n",
       "       'Pakistan', 'Philippines', 'Qatar', 'Saudi Arabia', 'Singapore',\n",
       "       'Vietnam', 'Syria', 'Tajikistan', 'Thailand',\n",
       "       'United Arab Emirates', 'Turkmenistan', 'Uzbekistan', 'Yemen'],\n",
       "      dtype=object)"
      ]
     },
     "execution_count": 34,
     "metadata": {},
     "output_type": "execute_result"
    }
   ],
   "execution_count": 34
  },
  {
   "metadata": {
    "ExecuteTime": {
     "end_time": "2024-09-29T17:08:20.735363Z",
     "start_time": "2024-09-29T17:08:20.730358Z"
    }
   },
   "cell_type": "code",
   "source": "countries_from_goal9 = goal9_df[\"GeoAreaName\"].unique()",
   "id": "8e9836eb025cec37",
   "outputs": [],
   "execution_count": 35
  },
  {
   "metadata": {
    "ExecuteTime": {
     "end_time": "2024-09-29T17:08:26.707334Z",
     "start_time": "2024-09-29T17:08:26.703454Z"
    }
   },
   "cell_type": "code",
   "source": "countries_from_goal9 = set(countries_from_goal9)",
   "id": "deeec8122e825029",
   "outputs": [],
   "execution_count": 36
  },
  {
   "metadata": {
    "ExecuteTime": {
     "end_time": "2024-09-29T17:08:28.194113Z",
     "start_time": "2024-09-29T17:08:28.190887Z"
    }
   },
   "cell_type": "code",
   "source": "countries_only_in_goal9 = countries_from_goal9 - countries_from_combined",
   "id": "7c6f14e4889364b",
   "outputs": [],
   "execution_count": 37
  },
  {
   "metadata": {
    "ExecuteTime": {
     "end_time": "2024-09-29T17:08:30.087874Z",
     "start_time": "2024-09-29T17:08:30.081859Z"
    }
   },
   "cell_type": "code",
   "source": "countries_only_in_goal9",
   "id": "252146f1d043d166",
   "outputs": [
    {
     "data": {
      "text/plain": [
       "{\"Democratic People's Republic of Korea\",\n",
       " 'Georgia',\n",
       " 'Israel',\n",
       " 'Mongolia',\n",
       " 'Myanmar',\n",
       " 'Republic of Korea',\n",
       " 'Singapore'}"
      ]
     },
     "execution_count": 38,
     "metadata": {},
     "output_type": "execute_result"
    }
   ],
   "execution_count": 38
  },
  {
   "metadata": {
    "ExecuteTime": {
     "end_time": "2024-09-29T17:08:32.368979Z",
     "start_time": "2024-09-29T17:08:32.362974Z"
    }
   },
   "cell_type": "code",
   "source": "len(countries_only_in_goal9)",
   "id": "b58363bd6fd9218d",
   "outputs": [
    {
     "data": {
      "text/plain": [
       "7"
      ]
     },
     "execution_count": 39,
     "metadata": {},
     "output_type": "execute_result"
    }
   ],
   "execution_count": 39
  },
  {
   "metadata": {
    "ExecuteTime": {
     "end_time": "2024-09-29T17:08:34.562260Z",
     "start_time": "2024-09-29T17:08:34.557264Z"
    }
   },
   "cell_type": "code",
   "source": "countries_only_in_combined = countries_from_combined - countries_from_goal9",
   "id": "78625b420b8c821e",
   "outputs": [],
   "execution_count": 40
  },
  {
   "metadata": {
    "ExecuteTime": {
     "end_time": "2024-09-29T17:08:36.195745Z",
     "start_time": "2024-09-29T17:08:36.190018Z"
    }
   },
   "cell_type": "code",
   "source": "countries_only_in_combined",
   "id": "e0a86dc490f71a31",
   "outputs": [
    {
     "data": {
      "text/plain": [
       "set()"
      ]
     },
     "execution_count": 41,
     "metadata": {},
     "output_type": "execute_result"
    }
   ],
   "execution_count": 41
  },
  {
   "metadata": {
    "ExecuteTime": {
     "end_time": "2024-09-29T17:08:44.152238Z",
     "start_time": "2024-09-29T17:08:44.146232Z"
    }
   },
   "cell_type": "code",
   "source": "len(countries_only_in_combined)",
   "id": "6d14359c838e03d6",
   "outputs": [
    {
     "data": {
      "text/plain": [
       "0"
      ]
     },
     "execution_count": 42,
     "metadata": {},
     "output_type": "execute_result"
    }
   ],
   "execution_count": 42
  },
  {
   "metadata": {},
   "cell_type": "markdown",
   "source": "## Drop countries from goal9_df which are not in combined_df",
   "id": "bbe4c54f4268442e"
  },
  {
   "metadata": {
    "ExecuteTime": {
     "end_time": "2024-09-29T17:09:47.152224Z",
     "start_time": "2024-09-29T17:09:47.145218Z"
    }
   },
   "cell_type": "code",
   "source": "goal9_df = goal9_df[goal9_df[\"GeoAreaName\"].isin(countries_from_combined)]",
   "id": "9d49c12c6c06e352",
   "outputs": [],
   "execution_count": 43
  },
  {
   "metadata": {},
   "cell_type": "markdown",
   "source": "## Save filtered goal9_df",
   "id": "6057519b5b4fb1d2"
  },
  {
   "metadata": {
    "ExecuteTime": {
     "end_time": "2024-09-29T17:10:30.957473Z",
     "start_time": "2024-09-29T17:10:30.612735Z"
    }
   },
   "cell_type": "code",
   "source": "goal9_df.to_excel(\"data/goal_9_filtered.xlsx\", index=False)",
   "id": "9c4e4f63a2fc1a5b",
   "outputs": [],
   "execution_count": 49
  },
  {
   "metadata": {},
   "cell_type": "markdown",
   "source": "## Compare data from both files",
   "id": "e9fde29a8c1314d8"
  },
  {
   "metadata": {
    "ExecuteTime": {
     "end_time": "2024-09-29T17:09:52.176077Z",
     "start_time": "2024-09-29T17:09:52.169225Z"
    }
   },
   "cell_type": "code",
   "outputs": [
    {
     "data": {
      "text/plain": [
       "array(['Afghanistan', 'Azerbaijan', 'Bahrain', 'Bangladesh', 'Armenia',\n",
       "       'Bhutan', 'Brunei Darussalam', 'Cambodia', 'Sri Lanka', 'China',\n",
       "       'Cyprus', 'India', 'Indonesia', 'Islamic Republic of Iran', 'Iraq',\n",
       "       'Japan', 'Kazakhstan', 'Jordan', 'Kuwait', 'Kyrgyz Republic',\n",
       "       'Lao P.D.R.', 'Lebanon', 'Malaysia', 'Maldives', 'Oman', 'Nepal',\n",
       "       'Pakistan', 'Philippines', 'Qatar', 'Saudi Arabia', 'Vietnam',\n",
       "       'Syria', 'Tajikistan', 'Thailand', 'United Arab Emirates',\n",
       "       'Turkmenistan', 'Uzbekistan', 'Yemen'], dtype=object)"
      ]
     },
     "execution_count": 45,
     "metadata": {},
     "output_type": "execute_result"
    }
   ],
   "execution_count": 45,
   "source": "goal9_df[\"GeoAreaName\"].unique()",
   "id": "7f331597e5e6722c"
  },
  {
   "metadata": {
    "ExecuteTime": {
     "end_time": "2024-09-29T17:09:54.350624Z",
     "start_time": "2024-09-29T17:09:54.343617Z"
    }
   },
   "cell_type": "code",
   "outputs": [
    {
     "data": {
      "text/plain": [
       "38"
      ]
     },
     "execution_count": 46,
     "metadata": {},
     "output_type": "execute_result"
    }
   ],
   "execution_count": 46,
   "source": "len(goal9_df[\"GeoAreaName\"].unique())",
   "id": "ccc71df91c8d3394"
  },
  {
   "metadata": {
    "ExecuteTime": {
     "end_time": "2024-09-29T17:09:57.719652Z",
     "start_time": "2024-09-29T17:09:57.713413Z"
    }
   },
   "cell_type": "code",
   "outputs": [
    {
     "data": {
      "text/plain": [
       "38"
      ]
     },
     "execution_count": 47,
     "metadata": {},
     "output_type": "execute_result"
    }
   ],
   "execution_count": 47,
   "source": "len(combined_df[\"Country\"].unique())",
   "id": "3899c65f8213fc0e"
  },
  {
   "metadata": {
    "ExecuteTime": {
     "end_time": "2024-09-29T17:10:11.326140Z",
     "start_time": "2024-09-29T17:10:11.320135Z"
    }
   },
   "cell_type": "code",
   "outputs": [
    {
     "data": {
      "text/plain": [
       "(727, 38)"
      ]
     },
     "execution_count": 48,
     "metadata": {},
     "output_type": "execute_result"
    }
   ],
   "execution_count": 48,
   "source": "len(goal9_df), len(combined_df)",
   "id": "6eed0d79f199da0f"
  }
 ],
 "metadata": {
  "kernelspec": {
   "display_name": "Python 3",
   "language": "python",
   "name": "python3"
  },
  "language_info": {
   "codemirror_mode": {
    "name": "ipython",
    "version": 2
   },
   "file_extension": ".py",
   "mimetype": "text/x-python",
   "name": "python",
   "nbconvert_exporter": "python",
   "pygments_lexer": "ipython2",
   "version": "2.7.6"
  }
 },
 "nbformat": 4,
 "nbformat_minor": 5
}
