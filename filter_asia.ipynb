{
 "cells": [
  {
   "metadata": {},
   "cell_type": "markdown",
   "source": "# Filter countries in Asia from the Goal 9 dataset",
   "id": "8583561641d19a89"
  },
  {
   "metadata": {},
   "cell_type": "markdown",
   "source": "## Import libraries",
   "id": "c453307c858b9ade"
  },
  {
   "cell_type": "code",
   "id": "initial_id",
   "metadata": {
    "collapsed": true,
    "ExecuteTime": {
     "end_time": "2024-09-29T12:30:57.451829Z",
     "start_time": "2024-09-29T12:30:56.261718Z"
    }
   },
   "source": "import pandas as pd",
   "outputs": [],
   "execution_count": 2
  },
  {
   "metadata": {},
   "cell_type": "markdown",
   "source": "## Create a list of countries in Asia",
   "id": "11026f9c19469b38"
  },
  {
   "metadata": {
    "ExecuteTime": {
     "end_time": "2024-09-29T12:30:57.478846Z",
     "start_time": "2024-09-29T12:30:57.473357Z"
    }
   },
   "cell_type": "code",
   "source": [
    "countries_to_filter = [\n",
    "    \"Afghanistan\", \"Armenia\", \"Azerbaijan\", \"Bahrain\", \"Bangladesh\", \"Bhutan\",\n",
    "    \"Brunei Darussalam\", \"Cambodia\", \"China\", \"Cyprus\", \"Democratic People's Republic of Korea\",\n",
    "    \"Georgia\", \"India\", \"Indonesia\", \"Iran (Islamic Republic of)\", \"Iraq\", \"Israel\",\n",
    "    \"Japan\", \"Jordan\", \"Kazakhstan\", \"Kuwait\", \"Kyrgyzstan\", \"Lao People's Democratic Republic\",\n",
    "    \"Lebanon\", \"Malaysia\", \"Maldives\", \"Mongolia\", \"Myanmar\", \"Nepal\", \"Oman\", \"Pakistan\",\n",
    "    \"Philippines\", \"Qatar\", \"Republic of Korea\", \"Saudi Arabia\", \"Singapore\", \"Sri Lanka\",\n",
    "    \"Syrian Arab Republic\", \"Tajikistan\", \"Thailand\", \"Turkmenistan\", \"United Arab Emirates\",\n",
    "    \"Uzbekistan\", \"Viet Nam\", \"Yemen\"\n",
    "]"
   ],
   "id": "8c4dd8b0c7e34264",
   "outputs": [],
   "execution_count": 3
  },
  {
   "metadata": {},
   "cell_type": "markdown",
   "source": "## Load the dataset",
   "id": "bd968461c95a7ae6"
  },
  {
   "metadata": {
    "ExecuteTime": {
     "end_time": "2024-09-29T12:30:57.535694Z",
     "start_time": "2024-09-29T12:30:57.531691Z"
    }
   },
   "cell_type": "code",
   "source": "file_path = \"data/goal_9.xlsx\"",
   "id": "b69c88248ae15328",
   "outputs": [],
   "execution_count": 4
  },
  {
   "metadata": {
    "ExecuteTime": {
     "end_time": "2024-09-29T12:30:58.879593Z",
     "start_time": "2024-09-29T12:30:57.557713Z"
    }
   },
   "cell_type": "code",
   "source": "df = pd.read_excel(file_path, sheet_name=\"Goal9 Filtered\")",
   "id": "4f3a89c0e2b6b753",
   "outputs": [],
   "execution_count": 5
  },
  {
   "metadata": {
    "ExecuteTime": {
     "end_time": "2024-09-29T12:30:58.950650Z",
     "start_time": "2024-09-29T12:30:58.927630Z"
    }
   },
   "cell_type": "code",
   "source": "df.head()",
   "id": "d40b14fcc6eacef8",
   "outputs": [
    {
     "data": {
      "text/plain": [
       "      SeriesCode                                  SeriesDescription  \\\n",
       "0  IS_RDP_FRGVOL  Freight volume, by mode of transport (tonne ki...   \n",
       "1  IS_RDP_FRGVOL  Freight volume, by mode of transport (tonne ki...   \n",
       "2  IS_RDP_FRGVOL  Freight volume, by mode of transport (tonne ki...   \n",
       "3  IS_RDP_FRGVOL  Freight volume, by mode of transport (tonne ki...   \n",
       "4  IS_RDP_FRGVOL  Freight volume, by mode of transport (tonne ki...   \n",
       "\n",
       "   GeoAreaCode  GeoAreaName  TimePeriod       Value  Time_Detail Source  \\\n",
       "0            4  Afghanistan        2017  21462557.0         2017   ICAO   \n",
       "1            4  Afghanistan        2018  29559349.0         2018   ICAO   \n",
       "2            4  Afghanistan        2019  20014206.0         2019   ICAO   \n",
       "3            4  Afghanistan        2020  19878902.0         2020   ICAO   \n",
       "4            4  Afghanistan        2021  12020125.0         2021   ICAO   \n",
       "\n",
       "  Mode of transportation Nature Units  \n",
       "0                    AIR      C  T_KM  \n",
       "1                    AIR      C  T_KM  \n",
       "2                    AIR      C  T_KM  \n",
       "3                    AIR      C  T_KM  \n",
       "4                    AIR      C  T_KM  "
      ],
      "text/html": [
       "<div>\n",
       "<style scoped>\n",
       "    .dataframe tbody tr th:only-of-type {\n",
       "        vertical-align: middle;\n",
       "    }\n",
       "\n",
       "    .dataframe tbody tr th {\n",
       "        vertical-align: top;\n",
       "    }\n",
       "\n",
       "    .dataframe thead th {\n",
       "        text-align: right;\n",
       "    }\n",
       "</style>\n",
       "<table border=\"1\" class=\"dataframe\">\n",
       "  <thead>\n",
       "    <tr style=\"text-align: right;\">\n",
       "      <th></th>\n",
       "      <th>SeriesCode</th>\n",
       "      <th>SeriesDescription</th>\n",
       "      <th>GeoAreaCode</th>\n",
       "      <th>GeoAreaName</th>\n",
       "      <th>TimePeriod</th>\n",
       "      <th>Value</th>\n",
       "      <th>Time_Detail</th>\n",
       "      <th>Source</th>\n",
       "      <th>Mode of transportation</th>\n",
       "      <th>Nature</th>\n",
       "      <th>Units</th>\n",
       "    </tr>\n",
       "  </thead>\n",
       "  <tbody>\n",
       "    <tr>\n",
       "      <th>0</th>\n",
       "      <td>IS_RDP_FRGVOL</td>\n",
       "      <td>Freight volume, by mode of transport (tonne ki...</td>\n",
       "      <td>4</td>\n",
       "      <td>Afghanistan</td>\n",
       "      <td>2017</td>\n",
       "      <td>21462557.0</td>\n",
       "      <td>2017</td>\n",
       "      <td>ICAO</td>\n",
       "      <td>AIR</td>\n",
       "      <td>C</td>\n",
       "      <td>T_KM</td>\n",
       "    </tr>\n",
       "    <tr>\n",
       "      <th>1</th>\n",
       "      <td>IS_RDP_FRGVOL</td>\n",
       "      <td>Freight volume, by mode of transport (tonne ki...</td>\n",
       "      <td>4</td>\n",
       "      <td>Afghanistan</td>\n",
       "      <td>2018</td>\n",
       "      <td>29559349.0</td>\n",
       "      <td>2018</td>\n",
       "      <td>ICAO</td>\n",
       "      <td>AIR</td>\n",
       "      <td>C</td>\n",
       "      <td>T_KM</td>\n",
       "    </tr>\n",
       "    <tr>\n",
       "      <th>2</th>\n",
       "      <td>IS_RDP_FRGVOL</td>\n",
       "      <td>Freight volume, by mode of transport (tonne ki...</td>\n",
       "      <td>4</td>\n",
       "      <td>Afghanistan</td>\n",
       "      <td>2019</td>\n",
       "      <td>20014206.0</td>\n",
       "      <td>2019</td>\n",
       "      <td>ICAO</td>\n",
       "      <td>AIR</td>\n",
       "      <td>C</td>\n",
       "      <td>T_KM</td>\n",
       "    </tr>\n",
       "    <tr>\n",
       "      <th>3</th>\n",
       "      <td>IS_RDP_FRGVOL</td>\n",
       "      <td>Freight volume, by mode of transport (tonne ki...</td>\n",
       "      <td>4</td>\n",
       "      <td>Afghanistan</td>\n",
       "      <td>2020</td>\n",
       "      <td>19878902.0</td>\n",
       "      <td>2020</td>\n",
       "      <td>ICAO</td>\n",
       "      <td>AIR</td>\n",
       "      <td>C</td>\n",
       "      <td>T_KM</td>\n",
       "    </tr>\n",
       "    <tr>\n",
       "      <th>4</th>\n",
       "      <td>IS_RDP_FRGVOL</td>\n",
       "      <td>Freight volume, by mode of transport (tonne ki...</td>\n",
       "      <td>4</td>\n",
       "      <td>Afghanistan</td>\n",
       "      <td>2021</td>\n",
       "      <td>12020125.0</td>\n",
       "      <td>2021</td>\n",
       "      <td>ICAO</td>\n",
       "      <td>AIR</td>\n",
       "      <td>C</td>\n",
       "      <td>T_KM</td>\n",
       "    </tr>\n",
       "  </tbody>\n",
       "</table>\n",
       "</div>"
      ]
     },
     "execution_count": 6,
     "metadata": {},
     "output_type": "execute_result"
    }
   ],
   "execution_count": 6
  },
  {
   "metadata": {},
   "cell_type": "markdown",
   "source": "## Filter the dataset",
   "id": "921ef973f967718c"
  },
  {
   "metadata": {
    "ExecuteTime": {
     "end_time": "2024-09-29T12:30:59.092650Z",
     "start_time": "2024-09-29T12:30:59.084354Z"
    }
   },
   "cell_type": "code",
   "source": "filtered_df = df[df['GeoAreaName'].isin(countries_to_filter)]",
   "id": "20dd4efa017304c3",
   "outputs": [],
   "execution_count": 7
  },
  {
   "metadata": {},
   "cell_type": "markdown",
   "source": "## Save the filtered dataset",
   "id": "85ba89b515620faa"
  },
  {
   "metadata": {
    "ExecuteTime": {
     "end_time": "2024-09-29T12:30:59.198623Z",
     "start_time": "2024-09-29T12:30:59.194591Z"
    }
   },
   "cell_type": "code",
   "source": [
    "with pd.ExcelWriter(file_path, mode='a', engine='openpyxl') as writer:\n",
    "    filtered_df.to_excel(writer, index=False, sheet_name=\"Goal9 Filtered Asia\")"
   ],
   "id": "971d1102c1769f58",
   "outputs": [],
   "execution_count": 8
  }
 ],
 "metadata": {
  "kernelspec": {
   "display_name": "Python 3",
   "language": "python",
   "name": "python3"
  },
  "language_info": {
   "codemirror_mode": {
    "name": "ipython",
    "version": 2
   },
   "file_extension": ".py",
   "mimetype": "text/x-python",
   "name": "python",
   "nbconvert_exporter": "python",
   "pygments_lexer": "ipython2",
   "version": "2.7.6"
  }
 },
 "nbformat": 4,
 "nbformat_minor": 5
}
